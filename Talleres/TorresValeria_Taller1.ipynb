{
  "cells": [
    {
      "cell_type": "markdown",
      "metadata": {
        "id": "0Z8Dn_z6Mb9b"
      },
      "source": [
        "# Taller 1\n",
        "\n",
        "## Métodos Computacionales 1 2022-10\n",
        "\n",
        "Instrucciones: Suba el jupyter notebook **.ipynb** en la actividad de bloque neon. El archivo debe ser nombrado ApellidoNombre_ApellidoNombre_Taller1.ipynb. **El archivo debe poder correr en el binder de la magistral** \n",
        "\n",
        "Si un ejercicio demora **más de 10 segundos** en correr se considerará **incorrecto**.\n",
        "\n",
        "No modifique el cuaderno, ni los casos de prueba, puede correr los casos de prueba pero no modificarlos.\n",
        "\n",
        "**Entrega: Martes 8 de Febrero 11:59 pm**"
      ]
    },
    {
      "cell_type": "markdown",
      "metadata": {
        "id": "xLdV95A5DY-l"
      },
      "source": [
        "## Problema 1\n",
        "\n",
        "Convierta una fecha de un formato a otro.\n",
        "Usted recibe un string de una fecha debe convertir la fecha a otro string. Revise los casos de prueba como ejemplos. Guarde el string en la variable $\\verb+date_format2+$.\n",
        "\n",
        "**Entrada:** String Fecha Formato 1\n",
        "\n",
        "**Salida:** String Fecha Formato 2"
      ]
    },
    {
      "cell_type": "code",
      "execution_count": 40,
      "metadata": {
        "id": "qM64bLGFHt5W"
      },
      "outputs": [],
      "source": [
        "def date_converter(date: str) -> str:\n",
        "  '''\n",
        "    Input\n",
        "      date: String, fecha en formato 1\n",
        "    Returns\n",
        "      date: String, fecha en formato 2\n",
        "  '''\n",
        "  date_new = \"\"\n",
        "  ls_date = []\n",
        "  for num in date:\n",
        "    if num != \"/\":\n",
        "      ls_date.append(num)\n",
        "  month = ls_date[2] + ls_date[3]\n",
        "  dict_month = {\"01\":\"January\", \"02\":\"February\", \"03\":\"March\", \"04\":\"April\", \"05\":\"May\", \"06\":\"June\",\n",
        "    \"07\":\"July\", \"08\":\"August\", \"09\":\"September\", \"10\":\"October\", \"11\":\"November\", \"12\":\"December\"}\n",
        "  day = \"\"\n",
        "  year = \"\"\n",
        "  for num in ls_date[4:]:\n",
        "    year += num\n",
        "  if ls_date[0] != \"0\":\n",
        "    day += ls_date[0] + ls_date[1]\n",
        "  else:\n",
        "    day += ls_date[1]\n",
        "  for month_key in dict_month.keys():\n",
        "    if month == month_key:\n",
        "      date_new = day + \" \" + dict_month[month_key] + \" \" + year + \" year\"\n",
        "  return date_new"
      ]
    },
    {
      "cell_type": "code",
      "execution_count": 41,
      "metadata": {
        "colab": {
          "base_uri": "https://localhost:8080/"
        },
        "id": "4MDp5_93JORP",
        "outputId": "d28ce001-c162-4904-ea92-218774aee6a8"
      },
      "outputs": [
        {
          "name": "stdout",
          "output_type": "stream",
          "text": [
            "Pasó las pruebas\n"
          ]
        }
      ],
      "source": [
        "def test_1():\n",
        "  assert date_converter(\"11/04/1812\") == \"11 April 1812 year\"\n",
        "  assert date_converter(\"09/07/1995\") == \"9 July 1995 year\"\n",
        "  assert date_converter(\"20/11/1990\") == \"20 November 1990 year\"\n",
        "  assert date_converter(\"01/01/2000\") == \"1 January 2000 year\"\n",
        "  print('Pasó las pruebas')\n",
        "\n",
        "test_1()"
      ]
    },
    {
      "cell_type": "markdown",
      "metadata": {
        "id": "TtDSGwXXOzhk"
      },
      "source": [
        "## Problema 2\n",
        "\n",
        "**Parte 1** (4 Puntos) Cree un programa, que resuelva el siguiente problema de tiro parabólico. Usted lanza una bola desde un edificio de altura $H$ que se encuentra en la cima de una montaña muy grande de inclinación constante igual a $\\alpha$ con respecto a la superficie horizontal, la velocidad inicial de la pelota es  $v$, calcule el ángulo $\\theta$ que se debe lanzar la pelota para que esta llegue lo más lejos posible en la dirección $x$ horizontal desde del punto de lanzamiento. La altura H, el angulo $\\alpha$ en grados con un decimal, y la velocidad $v$ se deben ingresar como entradas del programa en ese orden, primero altura, luego el ángulo y luego la velocidad, la salida es el ángulo de lanzamiento. El ángulo debe tener una exactitud de un decimal y debe estar reportado en grados. La altura se debe ingresar en m, el angulo de la montaña en grados y la velocidad en m/s, tome la gravedad igual a $9.8m/s^2$.\n",
        "\n",
        "![Imagen tiro Parabolico](https://raw.githubusercontent.com/diegour1/MetodosComputacionales1/main/DataFiles/image1.png)\n",
        "\n",
        "**Ejemplos:**\n",
        "\n",
        "print(max_angle(0, 0, 15)) -> 45.0\n",
        "\n",
        "print(max_angle(56, 15, 30)) -> 29.3\n",
        "\n",
        "print(max_angle(20, 67, 7)) -> 9.2"
      ]
    },
    {
      "cell_type": "markdown",
      "metadata": {
        "id": "0EiufNgQSZM0"
      },
      "source": [
        "**Parte 2** (1 Puntos) Resuelva analíticamente el problema. Incluya el archivo $\\verb+ApellidoNombre_ApellidoNombre_Ejercicio01.pdf+$ para la solución análitica."
      ]
    },
    {
      "cell_type": "code",
      "execution_count": 42,
      "metadata": {
        "id": "fTjWYNpA08bn"
      },
      "outputs": [],
      "source": [
        "import numpy as np\n",
        "\n",
        "def max_angle(height, alpha, vel):\n",
        "  '''\n",
        "    Input\n",
        "      heigth: float, altura del edificio\n",
        "      alpha: float, angulo en grados de la montana con respecto a la superficie horizontal\n",
        "      vel: float, velocidad inicial de la pelota\n",
        "    Returns\n",
        "      theta_max : float, angulo maximo para alcanzar la distancia maxima horizontal\n",
        "  '''\n",
        "  theta_max = 0\n",
        "  theta = 0\n",
        "  R_max = 0\n",
        "  while theta <= 90:\n",
        "    R = ((vel**2)/9.8)*(np.sin(np.radians(theta-alpha))+(((np.sin(np.radians(theta+alpha)))**2)+((2*9.81*height)/(vel**2)))**(1/2))*np.cos(np.radians(theta+alpha))\n",
        "    if R > R_max:\n",
        "      R_max = R\n",
        "      theta_max = theta\n",
        "    theta += 0.01\n",
        "  return (round(theta_max,1))"
      ]
    },
    {
      "cell_type": "code",
      "execution_count": 43,
      "metadata": {
        "id": "XncAaDyD48tC"
      },
      "outputs": [
        {
          "name": "stdout",
          "output_type": "stream",
          "text": [
            "18.6\n",
            "38.2\n",
            "26.7\n"
          ]
        }
      ],
      "source": [
        "### No modifique los siguientes prints estos son para su evaluacion\n",
        "\n",
        "print(max_angle(10, 0, 5))\n",
        "print(max_angle(20, 10, 50))\n",
        "print(max_angle(15, 30, 30))"
      ]
    },
    {
      "cell_type": "markdown",
      "metadata": {
        "id": "CkoXSN869-OF"
      },
      "source": [
        "## Problema 3\n",
        "\n",
        "Cada semana usted realiza una fiesta con sus amigos. A veces se reúnen en un bar los viernes, o salen de la ciudad los sábados. Usted quiere simplificar el proceso de reunir a las personas y por lo cual decide crear un programa que automatice el proceso. \n",
        "\n",
        "Usted debe crear la clase ```Party(place)``` la cual envía invitaciones a todos sus amigos. También debe crear la clase ```Friend``` y cada amigo debe ser una instancia de esta clase. A veces el círculo de amigos cambia - hay nuevos amigos, algunos amigos desaparecen de su vida (por ejemplo - se cambian de ciudad). Para crear las conexiones correctas usted debe crear la clase Party con los siguientes métodos:\n",
        "\n",
        "**add_friend((Friend(name)))** - agregar el 'friend' a la lista de 'observers' (la lista 'observers' son la gente que recibe una invitación cuando una fiesta es programada)\n",
        "\n",
        "**del_friend(friend)** - remover 'friend' de la lista 'observers'\n",
        "\n",
        "**send_invites()** - enviar las invitaciones con el día y hora a cada persona de la lista 'observers'\n",
        "\n",
        "La clase Friend debe tener el método **show_invite()** el cual retorna un string de la última invitación que la persona recibió con el lugar, el día y la hora. El lugar - es el 'place' el cual es dado a la instancia de Party en el momento de su creación. Si la persona no recibe ninguna invitación, ese método debe retornar - \"No party...\"\n",
        "\n",
        "En este problema usted puede usar el método de programación [Observer Design Pattern](https://en.wikipedia.org/wiki/Observer_pattern)\n",
        "\n",
        "**Entrada**: Los métodos de la Clase Party y Friend.\n",
        "\n",
        "**Salida**: String de la última invitación recibida por la persona.\n",
        "\n",
        "**Restricciones:** Los nombres de los amigos son todos diferentes.\n",
        " "
      ]
    },
    {
      "cell_type": "code",
      "execution_count": 44,
      "metadata": {
        "id": "9TY11E0x9iou"
      },
      "outputs": [],
      "source": [
        "class Party:\n",
        "  def __init__(self, place):\n",
        "    self.place = place\n",
        "    self.observers = []\n",
        "  def add_friend(self, observer):\n",
        "    self.observers.append(observer)\n",
        "  def del_friend(self, observer):\n",
        "    self.observers.remove(observer)\n",
        "  def send_invites(self, info):\n",
        "    for friend in self.observers:\n",
        "      friend.send_inv(info)\n",
        "      friend.get_place(self.place)\n",
        "\n",
        "class Friend:\n",
        "  def __init__(self, name):\n",
        "    self.name = name\n",
        "  def send_inv(self, invite):\n",
        "    self.last_invite = invite\n",
        "  def get_place(self, place):\n",
        "    self.place = place\n",
        "  def show_invite(self):\n",
        "    try:\n",
        "      return f\"{self.place}: {self.last_invite}\"\n",
        "    except:\n",
        "      return \"No party...\""
      ]
    },
    {
      "cell_type": "code",
      "execution_count": 45,
      "metadata": {
        "id": "HxDX4zTlH3z4"
      },
      "outputs": [
        {
          "name": "stdout",
          "output_type": "stream",
          "text": [
            "Pasó prueba 1\n"
          ]
        }
      ],
      "source": [
        "def test4a():\n",
        "  party = Party(\"Midnight Pub\")\n",
        "  nick = Friend(\"Nick\")\n",
        "  john = Friend(\"John\")\n",
        "  lucy = Friend(\"Lucy\")\n",
        "  chuck = Friend(\"Chuck\")\n",
        "\n",
        "  party.add_friend(nick)\n",
        "  party.add_friend(john)\n",
        "  party.add_friend(lucy)\n",
        "  party.send_invites(\"Friday, 9:00 PM\")\n",
        "  party.del_friend(nick)\n",
        "  party.send_invites(\"Saturday, 10:00 AM\")\n",
        "  party.add_friend(chuck)\n",
        "\n",
        "  assert john.show_invite() == \"Midnight Pub: Saturday, 10:00 AM\"\n",
        "  assert lucy.show_invite() == \"Midnight Pub: Saturday, 10:00 AM\"\n",
        "  assert nick.show_invite() == \"Midnight Pub: Friday, 9:00 PM\"\n",
        "  assert chuck.show_invite() == \"No party...\"\n",
        "  print(\"Pasó prueba 1\")\n",
        "\n",
        "test4a()"
      ]
    },
    {
      "cell_type": "code",
      "execution_count": 46,
      "metadata": {
        "id": "vLpokbi3IZyj"
      },
      "outputs": [
        {
          "name": "stdout",
          "output_type": "stream",
          "text": [
            "Pasó prueba 2\n"
          ]
        }
      ],
      "source": [
        "def test4b():\n",
        "  party = Party(\"Karl`s home\")\n",
        "  jack = Friend('Jack McConnel')\n",
        "  bob = Friend('Bob Monteu')\n",
        "  mary = Friend('Mary Forest')\n",
        "  party.add_friend(jack)\n",
        "  party.add_friend(bob)\n",
        "  party.send_invites('Sunday, 11:30 AM')\n",
        "  party.add_friend(mary)\n",
        "\n",
        "  assert bob.show_invite() == \"Karl`s home: Sunday, 11:30 AM\"\n",
        "  assert mary.show_invite() == \"No party...\"\n",
        "  print(\"Pasó prueba 2\")\n",
        "\n",
        "test4b()"
      ]
    },
    {
      "cell_type": "code",
      "execution_count": 47,
      "metadata": {
        "id": "asoLqV1HI8sL"
      },
      "outputs": [
        {
          "name": "stdout",
          "output_type": "stream",
          "text": [
            "Pasó prueba 3\n"
          ]
        }
      ],
      "source": [
        "def test4c():\n",
        "  party = Party(\"Miranda`s home\")\n",
        "  patrick = Friend('Patrick')\n",
        "  amanda = Friend('Amanda')\n",
        "  grace = Friend('Grace')\n",
        "  party.add_friend(patrick)\n",
        "  party.add_friend(amanda)\n",
        "  party.add_friend(grace)\n",
        "  party.send_invites('Friday, 19:00')\n",
        "\n",
        "  assert grace.show_invite() == \"Miranda`s home: Friday, 19:00\"\n",
        "  print(\"Pasó prueba 3\")\n",
        "\n",
        "test4c()"
      ]
    },
    {
      "cell_type": "code",
      "execution_count": 48,
      "metadata": {
        "id": "omAANa7gKco9"
      },
      "outputs": [
        {
          "name": "stdout",
          "output_type": "stream",
          "text": [
            "Pasó prueba 4\n"
          ]
        }
      ],
      "source": [
        "def test4d(): \n",
        "  party_1 = Party(\"Celentano\")\n",
        "  party_2 = Party(\"Itaka\")\n",
        "  party_3 = Party(\"Disneyland\")\n",
        "  john = Friend('John')\n",
        "  rose = Friend('Rose')\n",
        "  gabe = Friend('Gabe')\n",
        "  party_1.add_friend(john)\n",
        "  party_2.add_friend(rose)\n",
        "  party_3.add_friend(gabe)\n",
        "  party_1.send_invites('Friday, 18:45')\n",
        "  party_2.send_invites('Saturday, 12:30')\n",
        "  party_3.send_invites('Sunday, 10:00')\n",
        "\n",
        "  assert gabe.show_invite() == \"Disneyland: Sunday, 10:00\"\n",
        "  assert rose.show_invite() == \"Itaka: Saturday, 12:30\"\n",
        "  print(\"Pasó prueba 4\")\n",
        "\n",
        "test4d()"
      ]
    }
  ],
  "metadata": {
    "colab": {
      "name": "Taller1MC.ipynb",
      "provenance": []
    },
    "kernelspec": {
      "display_name": "Python 3",
      "name": "python3"
    },
    "language_info": {
      "codemirror_mode": {
        "name": "ipython",
        "version": 3
      },
      "file_extension": ".py",
      "mimetype": "text/x-python",
      "name": "python",
      "nbconvert_exporter": "python",
      "pygments_lexer": "ipython3",
      "version": "3.8.5"
    }
  },
  "nbformat": 4,
  "nbformat_minor": 0
}
