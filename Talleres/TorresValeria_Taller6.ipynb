{
  "cells": [
    {
      "cell_type": "markdown",
      "metadata": {
        "id": "0Z8Dn_z6Mb9b"
      },
      "source": [
        "# Taller 6\n",
        "\n",
        "## Métodos Computacionales 1 2022-10\n",
        "\n",
        "Instrucciones: Suba el jupyter notebook **.ipynb** en la actividad de bloque neon. El archivo debe ser nombrado ApellidoNombre_ApellidoNombre_Taller6.ipynb. **El archivo debe poder correr en el binder de la magistral** \n",
        "\n",
        "Si un ejercicio demora **más de 10 segundos** en correr se considerará **incorrecto**.\n",
        "\n",
        "No modifique el cuaderno, ni los casos de prueba, puede correr los casos de prueba pero no modificarlos.\n",
        "\n",
        "**Entrega: Lunes 16 de Mayo 11:59 pm**"
      ]
    },
    {
      "cell_type": "markdown",
      "metadata": {
        "id": "VvtNBbxJ0n7a"
      },
      "source": [
        "## Librerias"
      ]
    },
    {
      "cell_type": "code",
      "execution_count": 1,
      "metadata": {
        "id": "mmgcGeXk0pPA"
      },
      "outputs": [],
      "source": [
        "import numpy as np\n",
        "import matplotlib.pyplot as plt\n",
        "from scipy import stats\n",
        "from scipy.stats import norm, multivariate_normal\n",
        "from ipywidgets import interact, interactive, fixed, interact_manual, IntSlider"
      ]
    },
    {
      "cell_type": "markdown",
      "metadata": {
        "id": "TtDSGwXXOzhk"
      },
      "source": [
        "## Problema 1\n",
        "\n",
        "Resolver los siguientes problemas con 30000 pasos de MonteCarlo. Además planteé la ecuación que resuelve el problema\n",
        "\n",
        "a) Un examen de opción múltiple contiene 30 preguntas, cada una con cinco respuestas posibles. Supongase que el estudiante sólo adivina las respuestas. ¿Cuál es la probabilidad de que el estudiante conteste de manera correcta más de 20 preguntas? \n",
        "\n",
        "a) En una central teléfonica se reciben llamadas según las leyes de un proceso de Poisson, con un promedio de diez llamadas por hora, ¿Cuál es la probabilidad de que ninguna llamada sea recibida entre las 8am y las 12 del medio día?"
      ]
    },
    {
      "cell_type": "markdown",
      "metadata": {
        "id": "7xE2bIxWNz14"
      },
      "source": [
        "Escriba aquí tus ecuaciones aquí"
      ]
    },
    {
      "cell_type": "code",
      "execution_count": 2,
      "metadata": {
        "id": "H5fcdvWON5xf"
      },
      "outputs": [
        {
          "name": "stdout",
          "output_type": "stream",
          "text": [
            "a) P = 0.024035555555555557\n",
            "b) P = 0.06672535238460464\n"
          ]
        }
      ],
      "source": [
        "#PUNTO A\n",
        "def punto_A(num_points=30000, n=30, p=1/5, num_x=20): #Distribución binomial\n",
        "    #P(x>20) = 1 - P(x<=10) = sum[n,x] * p^x * q^(n-x) = 1 - sum[30,20] * 0.2^20 * 0.8^(30-20)\n",
        "    y = np.zeros(num_points)\n",
        "    uni_dist = np.random.binomial(n, p, num_points)\n",
        "    for value in uni_dist:\n",
        "        y[value] += 1\n",
        "    y /= num_points\n",
        "    min_x = -5\n",
        "    max_x = 5\n",
        "    min_y = 0.0\n",
        "    max_y = np.amax(y)\n",
        "    random_y = np.random.rand(num_points) * (max_y - min_y) + min_y\n",
        "    index = np.where(y - random_y > 0.0)\n",
        "    interval_integral = (max_y-min_y) * (max_x - min_x)\n",
        "    integral  = interval_integral * (np.size(index)/(1.0*np.size(random_y)))\n",
        "    print(f\"a) P = {integral*100}\")\n",
        "\n",
        "#PUNTO B\n",
        "def punto_B(num_points=30000, lambda_poisson=10, k=0):\n",
        "    #Distribución de Poisson\n",
        "    #p(x)=((e^(-lambda))*(lambda^x))/(x!))=((e^(-10))*(lambda^0))/(0!)\n",
        "    x = np.arange(0, num_points, 1)\n",
        "    y = stats.poisson.pmf(x, mu=lambda_poisson)\n",
        "    min_x = -10\n",
        "    max_x = 10\n",
        "    min_y = 0.0\n",
        "    max_y = np.amax(y)\n",
        "    random_y = np.random.rand(num_points) * (max_y - min_y) + min_y\n",
        "    index = np.where(y - random_y > 0.0)\n",
        "    interval_integral = (max_y-min_y) * (max_x - min_x)\n",
        "    integral  = interval_integral * (np.size(index)/(1.0*np.size(random_y)))\n",
        "    print(f\"b) P = {integral*100}\")\n",
        "\n",
        "punto_A()\n",
        "punto_B()"
      ]
    },
    {
      "cell_type": "markdown",
      "metadata": {
        "id": "xLdV95A5DY-l"
      },
      "source": [
        "## Problema 2\n",
        "\n",
        "Considere las dos caracteristicas \"Alcohol level\" y \"Alcalinity level\" del conjunto de datos [wine_data](https://scikit-learn.org/stable/modules/generated/sklearn.datasets.load_wine.html). Pueden usar el notebook que vimos en clase la referencia es el siguiente curso. \n",
        "[Machine Learning Fundamentals UC San Diego](https://www.edx.org/es/course/machine-learning-fundamentals-2)"
      ]
    },
    {
      "cell_type": "code",
      "execution_count": 3,
      "metadata": {
        "colab": {
          "base_uri": "https://localhost:8080/"
        },
        "id": "WK56oFi5BHMz",
        "outputId": "666d1e99-438c-421f-b483-c1ee92ea8b0b"
      },
      "outputs": [
        {
          "data": {
            "text/plain": [
              "((178,), (178,))"
            ]
          },
          "execution_count": 3,
          "metadata": {},
          "output_type": "execute_result"
        }
      ],
      "source": [
        "from sklearn.datasets import load_wine\n",
        "\n",
        "alcohol_levels = load_wine()['data'][:, [0]].ravel()\n",
        "alcalinity_levels = load_wine()['data'][:, [3]].ravel()\n",
        "\n",
        "np.random.seed(0)\n",
        "perm = np.random.permutation(178)\n",
        "trainx = alcohol_levels[perm[0:130]]\n",
        "trainy = alcalinity_levels[perm[0:130]]\n",
        "testx = alcohol_levels[perm[130:178]]\n",
        "testy = alcalinity_levels[perm[130:178]]\n",
        "\n",
        "alcohol_levels.shape, alcalinity_levels.shape"
      ]
    },
    {
      "cell_type": "markdown",
      "metadata": {
        "id": "w9TDfMOMGC--"
      },
      "source": [
        "a) A partir de esas dos caracteristicas del vino, calcule el vector $\\vec{\\mu}$ y la matrix de covarianza $\\Sigma$, \n",
        "\n",
        "$$\n",
        "\\vec{\\mu} = \\begin{bmatrix}\n",
        "\\mu_x\\\\\n",
        "\\mu_y\n",
        "\\end{bmatrix}, \\quad \\Sigma = \\begin{bmatrix}\n",
        "\\text{Var}(x) & \\text{Cov}(x, y)\\\\\n",
        "\\text{Cov}(y, x) & \\text{Var}(y)\n",
        "\\end{bmatrix}\n",
        "$$"
      ]
    },
    {
      "cell_type": "code",
      "execution_count": 9,
      "metadata": {
        "colab": {
          "base_uri": "https://localhost:8080/"
        },
        "id": "RMVO6JheB4L1",
        "outputId": "c1cb149c-afcd-4b58-fb0c-cf3801a08ee9"
      },
      "outputs": [
        {
          "name": "stdout",
          "output_type": "stream",
          "text": [
            "mu: [13.00061798 19.49494382]\n",
            "covar: [[ 0.65535973 -0.83636766]\n",
            " [-0.83636766 11.09003061]]\n"
          ]
        }
      ],
      "source": [
        "mu = np.zeros(2)\n",
        "covar = np.zeros((2, 2))\n",
        "\n",
        "def fit_gaussian(x):\n",
        "    mu[0] = np.mean(x[0], axis=0)\n",
        "    mu[1] = np.mean(x[1], axis=0)\n",
        "    covar = np.cov(x[0], x[1], rowvar=0, bias=1)\n",
        "    return mu, covar\n",
        "\n",
        "mu, covar = fit_gaussian((alcohol_levels, alcalinity_levels))\n",
        "print(f\"mu: {mu}\")\n",
        "print(f\"covar: {covar}\")"
      ]
    },
    {
      "cell_type": "markdown",
      "metadata": {
        "id": "wgwnS3uQHY0l"
      },
      "source": [
        "b) A partir del la matriz de covarianza dibuje los puntos y la gaussiana bivariada, con las curvas de nivel.\n",
        "\n",
        "El resultado se tiene que ver como lo siguiente, \n",
        "\n",
        "![](https://raw.githubusercontent.com/diegour1/MetodosComputacionales1/main/DataFiles/image11.png)"
      ]
    },
    {
      "cell_type": "code",
      "execution_count": 32,
      "metadata": {
        "id": "EfXUNg1yGisK"
      },
      "outputs": [
        {
          "data": {
            "application/vnd.jupyter.widget-view+json": {
              "model_id": "e1bb3819ab5044f5a972f9c19cdef3f8",
              "version_major": 2,
              "version_minor": 0
            },
            "text/plain": [
              "interactive(children=(Button(description='Run Interact', style=ButtonStyle()), Output()), _dom_classes=('widge…"
            ]
          },
          "metadata": {},
          "output_type": "display_data"
        },
        {
          "data": {
            "image/png": "[encoded data removed]",
            "text/plain": [
              "<Figure size 432x288 with 1 Axes>"
            ]
          },
          "metadata": {
            "needs_background": "light"
          },
          "output_type": "display_data"
        }
      ],
      "source": [
        "def find_range(x):\n",
        "    lower = min(x)\n",
        "    upper = max(x)\n",
        "    width = upper - lower\n",
        "    lower = lower - 0.2 * width\n",
        "    upper = upper + 0.2 * width\n",
        "    return lower, upper\n",
        "#find_range(alcohol_levels)\n",
        "\n",
        "def plot_contours(mu, cov, x1g, x2g, col=\"black\"):\n",
        "    rv = multivariate_normal(mean=mu, cov=cov)\n",
        "    z = np.zeros((len(x1g),len(x2g)))\n",
        "    for i in range(0,len(x1g)):\n",
        "        for j in range(0,len(x2g)):\n",
        "            z[j,i] = rv.logpdf([x1g[i], x2g[j]])\n",
        "    sign, logdet = np.linalg.slogdet(cov)\n",
        "    normalizer = -0.5 * (2 * np.log(6.28) + sign * logdet)\n",
        "    for offset in range(1,4):\n",
        "        plt.contour(x1g,x2g,z, levels=[normalizer - offset], colors=col, linewidths=2.0, linestyles='solid')\n",
        "\n",
        "@interact_manual( f1=IntSlider(0,0,12,1), f2=IntSlider(6,0,12,1), label=IntSlider(1,1,3,1) )\n",
        "def two_features_plot():\n",
        "    x1_lower, x1_upper = find_range(trainx)\n",
        "    x2_lower, x2_upper = find_range(trainy)\n",
        "    plt.xlim(x1_lower, x1_upper)\n",
        "    plt.ylim(x2_lower, x2_upper)\n",
        "    plt.plot(trainx, trainy, 'ro', color=\"k\")\n",
        "    res = 200\n",
        "    x1g = np.linspace(x1_lower, x1_upper, res)\n",
        "    x2g = np.linspace(x2_lower, x2_upper, res)\n",
        "    mu, cov = fit_gaussian((trainx, trainy))\n",
        "    plot_contours(mu, cov, x1g, x2g, 'black')\n",
        "    plt.title('Wine data', color='blue')\n",
        "    plt.xlabel(\"alcohol\", color='red')\n",
        "    plt.ylabel(\"alcalinity\", color='red')\n",
        "    plt.show()\n",
        "\n",
        "two_features_plot()"
      ]
    },
    {
      "cell_type": "markdown",
      "metadata": {
        "id": "QQ703UhFHr4F"
      },
      "source": [
        "c) Diagonalice la matriz de covarianza, es decir obtenga los valores propios y vectores propios de la matriz de covarianza"
      ]
    },
    {
      "cell_type": "code",
      "execution_count": 35,
      "metadata": {
        "colab": {
          "base_uri": "https://localhost:8080/"
        },
        "id": "U6Vv9XzwStEg",
        "outputId": "12afb1b5-e652-480e-92bc-1409b0dc8322"
      },
      "outputs": [
        {
          "name": "stdout",
          "output_type": "stream",
          "text": [
            "[ 0.58874779 11.15664256] \n",
            " [[-0.9968434   0.07939293]\n",
            " [-0.07939293 -0.9968434 ]]\n"
          ]
        }
      ],
      "source": [
        "# Tu codigo aquí\n",
        "eig_vals = np.zeros(2)\n",
        "eig_vecs = np.zeros((2, 2))\n",
        "\n",
        "eig_vals, eig_vecs = np.linalg.eig(covar)\n",
        "\n",
        "print(eig_vals,\"\\n\", eig_vecs)"
      ]
    },
    {
      "cell_type": "markdown",
      "metadata": {
        "id": "0NbXN5dXIjnT"
      },
      "source": [
        "d) A partir de los vectores propios y valores propios de la matriz, y el vector $\\vec{\\mu}$.\n",
        "\n",
        "*   Desplace los datos de forma que el promedio de los datos en juntas coordenadas sea cero.\n",
        "*   Rote los datos de forma que la covarianza de los datos sea cero.\n",
        "*   Gráfique la gaussiana de los nuevos datos rotados con sus curvas de nivel, a partir de la diagonzalización de la matrix de covarianza original (parte c). No volver a usar la función `np.cov()` de numpy.\n",
        "\n",
        "Una rotación de puntos en dos dimensiones se puede ver como una matriz de la forma,\n",
        "\n",
        "$$\n",
        "\\text{Rot}(\\theta) = \\begin{bmatrix}\n",
        "\\cos{\\theta} & -\\sin{\\theta}\\\\\n",
        "\\sin{\\theta} & \\cos{\\theta}\n",
        "\\end{bmatrix}\n",
        "$$\n",
        "\n",
        "La gráfica se debe ver como lo siguiente,\n",
        "\n",
        "![](https://raw.githubusercontent.com/diegour1/MetodosComputacionales1/main/DataFiles/image12.png)"
      ]
    },
    {
      "cell_type": "code",
      "execution_count": 7,
      "metadata": {
        "id": "CXXs3eL_SW8e"
      },
      "outputs": [],
      "source": [
        "# tu codigo aqui\n",
        "\n",
        "\n"
      ]
    },
    {
      "cell_type": "markdown",
      "metadata": {
        "id": "rmMGythIMLDN"
      },
      "source": [
        "Nota: Las coordenadas de los nuevos datos se llaman Componentes principales, lo que hicimos fue basicamente el método PCA, el cual permite reducir la dimensionalidad de los datos, ignorando las componentes menos importantes."
      ]
    },
    {
      "cell_type": "markdown",
      "metadata": {
        "id": "Haqd76Hlz2V6"
      },
      "source": [
        "## Problema 3\n",
        "\n",
        "Un método para medir el nivel de pH de una solución resulta en una medición con un valor que está distribuido de forma normal con un promedio igual al nivel de pH y una desviación estándar de 0.05. Un ingeniero ambiental afirma que las dos soluciones vienen de la misma fuente. Si esta hipótesis fuera correcta entonces el nivel de pH de las soluciones sería igual. Para probar la veracidad de esta afirmación se realizaron 10 mediciones independientes del nivel de pH de juntas soluciones, los datos son los siguientes.\n",
        "\n",
        "![](https://raw.githubusercontent.com/diegour1/MetodosComputacionales1/main/DataFiles/image10.png)\n",
        "\n",
        "1.   Calcule el $p$ value, guárdelo en la variable `p_value`.\n",
        "2.   Qué puede concluir con un level of significance de $\\alpha = 0.05$, guarde la conclusión en el string `conclusion`\n",
        "\n",
        "Incluya el siguiente `print` al final:\n",
        "\n",
        "```\n",
        "print(f\"p value = {p_value}, la conclusion es:  {conclusion}\")\n",
        "```\n",
        "\n",
        "\n",
        "\n"
      ]
    },
    {
      "cell_type": "code",
      "execution_count": 8,
      "metadata": {
        "colab": {
          "base_uri": "https://localhost:8080/"
        },
        "id": "1Dzy37PS7-rg",
        "outputId": "30ecba38-fb77-4685-df61-3b6cb511e59a"
      },
      "outputs": [
        {
          "name": "stdout",
          "output_type": "stream",
          "text": [
            "0.8779753457173989\n",
            "p value = 0.8779753457173989, la conclusion es:  verdadera\n"
          ]
        }
      ],
      "source": [
        "#Ho -> A==B\n",
        "#Ha -> A!=B\n",
        "\n",
        "p_value = 0\n",
        "conclusion = \"\"\n",
        "\n",
        "sigma = 0.05\n",
        "meas_A = [6.24, 6.31, 6.28, 6.30, 6.25, 6.26, 6.24, 6.29, 6.22, 6.28]\n",
        "meas_B = [6.27, 6.25, 6.33, 5.27, 6.24, 6.31, 6.28, 6.29, 6.34, 6.27]\n",
        "\n",
        "miu = np.sum(meas_A) / len(meas_A)\n",
        "mean = np.sum(meas_B) / len(meas_B)\n",
        "\n",
        "sigma_mean = (miu - mean) / np.sqrt(len(meas_A))\n",
        "z = (miu - mean) / sigma_mean\n",
        "p_value = 2 * norm.cdf(z, loc=miu/1.977, scale=sigma)\n",
        "\n",
        "alpha = 0.05\n",
        "if p_value > alpha:\n",
        "    conclusion = \"verdadera\"\n",
        "else:\n",
        "    conclusion = \"falsa\"\n",
        "\n",
        "print(p_value)\n",
        "print(f\"p value = {p_value}, la conclusion es:  {conclusion}\")"
      ]
    }
  ],
  "metadata": {
    "colab": {
      "name": "Taller6MC.ipynb",
      "provenance": []
    },
    "interpreter": {
      "hash": "e60704a94718795fd5d06c3ab1cfc8fce52424fdf3bd1bfa5792359e2c91f3fa"
    },
    "kernelspec": {
      "display_name": "Python 3.8.5 ('base')",
      "language": "python",
      "name": "python3"
    },
    "language_info": {
      "codemirror_mode": {
        "name": "ipython",
        "version": 3
      },
      "file_extension": ".py",
      "mimetype": "text/x-python",
      "name": "python",
      "nbconvert_exporter": "python",
      "pygments_lexer": "ipython3",
      "version": "3.8.5"
    }
  },
  "nbformat": 4,
  "nbformat_minor": 0
}
