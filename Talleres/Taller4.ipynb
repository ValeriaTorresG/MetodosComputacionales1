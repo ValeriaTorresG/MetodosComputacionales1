{
  "cells": [
    {
      "cell_type": "markdown",
      "metadata": {
        "id": "0Z8Dn_z6Mb9b"
      },
      "source": [
        "# Taller 4\n",
        "\n",
        "## Métodos Computacionales 1 2022-10\n",
        "\n",
        "Instrucciones: Suba el jupyter notebook **.ipynb** en la actividad de bloque neon. El archivo debe ser nombrado ApellidoNombre_ApellidoNombre_Taller4.ipynb, para las partes analíticas el archivo debe ser **.pdf** ApellidoNombre_ApellidoNombre_Taller4.pdf. **El archivo debe poder correr en el binder de la magistral** \n",
        "\n",
        "Si un ejercicio demora **más de 10 segundos** en correr se considerará **incorrecto**.\n",
        "\n",
        "No modifique el cuaderno, ni los casos de prueba, puede correr los casos de prueba pero no modificarlos.\n",
        "\n",
        "**Entrega: Miercoles 6 de Abril 11:59 pm**"
      ]
    },
    {
      "cell_type": "markdown",
      "metadata": {
        "id": "VvtNBbxJ0n7a"
      },
      "source": [
        "## Librerias"
      ]
    },
    {
      "cell_type": "code",
      "execution_count": 12,
      "metadata": {
        "id": "mmgcGeXk0pPA"
      },
      "outputs": [],
      "source": [
        "import numpy as np\n",
        "import matplotlib.pyplot as plt\n",
        "from scipy.interpolate import interp1d"
      ]
    },
    {
      "cell_type": "markdown",
      "metadata": {
        "id": "xLdV95A5DY-l"
      },
      "source": [
        "## Problema 1\n",
        "\n",
        "Considere los siguientes puntos\n",
        "\n",
        "```\n",
        "x = [1., 2., 3., 4., 5.]\n",
        "y = [1.20,  0.31, 3.92, 3.78, 4.47]\n",
        "```\n",
        "\n",
        "A partir del metodo de  [regresion matricial](https://github.com/diegour1/MetodosComputacionales1/blob/main/Notebooks/08%20-%20fit_lineal_y_solucion_sistema_de_ecuaciones.ipynb) visto en clase. Realice 4 regresiones de grado 0, 1, 2, 3, y 4. Gráfique los puntos junto con las regresiones. El gráfico se debe ver como se muestra a continuación. \n",
        "\n",
        "![](https://raw.githubusercontent.com/diegour1/MetodosComputacionales1/main/DataFiles/image7.png)\n",
        "\n",
        "Debe implementar el método no puede usar librerias como `sklearn.linear_model.LinearRegression`."
      ]
    },
    {
      "cell_type": "code",
      "execution_count": 13,
      "metadata": {
        "id": "cEYXbp4cUd-h"
      },
      "outputs": [
        {
          "data": {
            "text/plain": [
              "Text(0, 0.5, 'Y')"
            ]
          },
          "execution_count": 13,
          "metadata": {},
          "output_type": "execute_result"
        },
        {
          "data": {
            "image/png": "[encoded data removed]",
            "text/plain": [
              "<Figure size 432x288 with 1 Axes>"
            ]
          },
          "metadata": {
            "needs_background": "light"
          },
          "output_type": "display_data"
        }
      ],
      "source": [
        "x = [1., 2., 3., 4., 5.]\n",
        "y = [1.20,  0.31, 3.92, 3.78, 4.47]\n",
        "\n",
        "def zero(x):\n",
        "    n = np.sum(np.array(x))\n",
        "    mean = n / len(x)\n",
        "    temp = []\n",
        "    for i in range(0,len(x),1):\n",
        "        temp.append(mean)\n",
        "    return np.array(temp)\n",
        "\n",
        "def linear(x,y):\n",
        "    dots = []\n",
        "    for i in range(0,len(x),1):\n",
        "        temp = []\n",
        "        temp.append(1)\n",
        "        temp.append(x[i])\n",
        "        dots.append(temp)\n",
        "    x = np.array(dots)\n",
        "    fit = np.transpose(np.linalg.inv(np.transpose(x)@x))@(np.transpose(x))@(np.array(y))\n",
        "    return ((fit[1]*np.array(x))+fit[0])[:,1]\n",
        "\n",
        "def quadratic(x,y):\n",
        "    x = np.array(x)\n",
        "    y = np.array(y)\n",
        "    eq1 = [np.sum(x**2), np.sum(x), len(x)]\n",
        "    eq2 = [np.sum(x**3), np.sum(x**2), np.sum(x)]\n",
        "    eq3 = [np.sum(x**4), np.sum(x**3), np.sum(x**2)]\n",
        "    a = np.array([eq1, eq2, eq3])\n",
        "    b = np.array([[np.sum(y)], [np.sum(x*y)], [np.sum((x**2)*y)]])\n",
        "    solved = np.linalg.solve(a,b)\n",
        "    return (solved[0]*(x**2))+(solved[1]*x)+solved[2]\n",
        "\n",
        "def cubic(x,y):\n",
        "    x = np.array(x)\n",
        "    y = np.array(y)\n",
        "    eq1 = [np.sum(x**3), np.sum(x**2), np.sum(x), len(x)]\n",
        "    eq2 = [np.sum(x**4), np.sum(x**3), np.sum(x**2), np.sum(x)]\n",
        "    eq3 = [np.sum(x**5), np.sum(x**4), np.sum(x**3), np.sum(x**2)]\n",
        "    eq4 = [np.sum(x**6), np.sum(x**5), np.sum(x**4), np.sum(x**3)]\n",
        "    a = np.array([eq1, eq2, eq3, eq4])\n",
        "    b = np.array([[np.sum(y)], [np.sum(x*y)], [np.sum((x**2)*y)], [np.sum((x**3)*y)]])\n",
        "    solved = np.linalg.solve(a,b)\n",
        "    return (solved[0]*(x**3))+(solved[1]*(x**2))+(solved[2]*x)+solved[3]\n",
        "\n",
        "def fourth(x,y):\n",
        "    x = np.array(x)\n",
        "    y = np.array(y)\n",
        "    eq1 = [np.sum(x**4), np.sum(x**3), np.sum(x**2), np.sum(x), len(x)]\n",
        "    eq2 = [np.sum(x**5), np.sum(x**4), np.sum(x**3), np.sum(x**2), np.sum(x)]\n",
        "    eq3 = [np.sum(x**6), np.sum(x**5), np.sum(x**4), np.sum(x**3), np.sum(x**2)]\n",
        "    eq4 = [np.sum(x**7), np.sum(x**6), np.sum(x**5), np.sum(x**4), np.sum(x**3)]\n",
        "    eq5 = [np.sum(x**8), np.sum(x**7), np.sum(x**6), np.sum(x**5), np.sum(x**4)]\n",
        "    a = np.array([eq1, eq2, eq3, eq4, eq5])\n",
        "    b = np.array([[np.sum(y)], [np.sum(x*y)], [np.sum((x**2)*y)], [np.sum((x**3)*y)], [np.sum((x**4)*y)]])\n",
        "    solved = np.linalg.solve(a,b)\n",
        "    return (solved[0]*(x**4))+(solved[1]*(x**3))+(solved[2]*(x**2))+(solved[3]*x)+solved[4]\n",
        "\n",
        "cubic_interpolation_model = interp1d(x, y, kind = \"cubic\")\n",
        "X = np.linspace((np.array(x)).min(), (np.array(x)).max(), 500)\n",
        "Y = cubic_interpolation_model(X)\n",
        "\n",
        "plt.scatter(x,y, c='mediumpurple')\n",
        "plt.plot(X, zero(X))\n",
        "plt.plot(x, linear(x,y))\n",
        "plt.plot(x, quadratic(x,y))\n",
        "plt.plot(X, cubic(X,Y), 'red')\n",
        "plt.plot(X, fourth(X,Y), 'mediumpurple')\n",
        "plt.title('Matrix Regression Method')\n",
        "plt.xlabel('x')\n",
        "plt.ylabel('Y')"
      ]
    },
    {
      "cell_type": "markdown",
      "metadata": {
        "id": "TtDSGwXXOzhk"
      },
      "source": [
        "## Problema 2\n",
        "\n",
        "Considere una cadena larga de resistencias como se muestra en la figura:\n",
        "\n",
        "![](https://raw.githubusercontent.com/diegour1/MetodosComputacionales1/main/DataFiles/image8.png)\n",
        "\n",
        "Todos los resitores tienen las misma resistencia $R$. El voltage en la parte superior izquierda del sistema es $V_+ = 5 \\text{V}$. El problema consiste en obtener los voltajes $V_1, \\ldots, V_N$ de los puntos internos del circuito. \n",
        "\n",
        "a) Usando la ley de Ohm y la ley de corrientes de Kirchoff, la cual dice que la corriente total que fluye hacia afuera o hacia adentro de cada nodo del circuito es cero. Muestre que los voltajes $V_1, \\ldots, V_N$ cumplen con las siguientes ecuaciones.\n",
        "\n",
        "$$3V_1 − V_2 − V_3 = V_+$$\n",
        "$$− V_1 + 4V_2 − V_3 − V_4 = V_+,$$\n",
        "$$\\vdots$$\n",
        "$$− V_{i − 2} − V_{i − 1} + 4V_i − V_{i + 1} − V_{i + 2} = 0,$$\n",
        "$$\\vdots$$\n",
        "$$− V_{N − 3} − V_{N − 2}+ 4V_{N − 1} − V_N = 0,$$\n",
        "$$− V_{N − 2} − V_{N − 1} + 3V_N = 0.$$\n",
        "\n",
        "b) Escriba las ecuaciones de la forma $A\\vec{x} = \\vec{b}$ encuentre los valores de la matriz $A$ y del vector $\\vec{b}$, para $N=6$. Imprima estos dos resultados en el notebook.\n",
        "\n",
        "c) Escriba un programa que resuelva los valores de $V_i$ cuando $N=6$ es decir 6 nodos internos. Guarde e imprima los valores en el vector $\\vec{x}$.\n",
        "\n",
        "d) Encuentre la resitencia total $R_{(N=6)} = \\alpha R$, para la red $N=6$, donde $\\alpha$ es un constante, imprima el valor de $\\alpha$."
      ]
    },
    {
      "cell_type": "code",
      "execution_count": 14,
      "metadata": {
        "id": "A0h-7igDshlM"
      },
      "outputs": [],
      "source": [
        "matrix = np.array([[3,-1,-1,0,0,0,5],\n",
        "                  [-1,4,-1,-1,0,0,5],\n",
        "                  [0,-1,-1,4,-1,-1,0],\n",
        "                  [0,0,-1,-1,4,-1,0],\n",
        "                  [0,0,0,-1,-1,3,0],\n",
        "                  [-1,-1,4,-1,-1,0,5]])\n",
        "\n",
        "def find_system(matrix):\n",
        "    A = []\n",
        "    for i in matrix:\n",
        "        temp = []\n",
        "        for j in range(0,6,1):\n",
        "            temp.append(i[j])\n",
        "        A.append(temp)\n",
        "    A = np.array(A)\n",
        "    b = []\n",
        "    for i in matrix:\n",
        "        b.append(i[6])\n",
        "    b = np.array(b)\n",
        "    return (A,b)\n",
        "\n",
        "def find_voltages(matrix):\n",
        "    solved = matrix.copy().astype(float)\n",
        "    n = solved.shape[0]\n",
        "    for i in range(n):\n",
        "        for j in range(i+1, n):\n",
        "            solved[j] = (solved[j, i] / solved[i, i]) * solved[i] - solved[j]\n",
        "    solved = solved.copy().astype(float)\n",
        "    n = solved.shape[0]\n",
        "    for i in range(n-1,-1,-1):\n",
        "        for j in range(i - 1, -1, -1):\n",
        "            solved[j] = (solved[j, i] / solved[i, i]) * solved[i] - solved[j]\n",
        "        solved[i] = solved[i] / solved[i, i]\n",
        "    x = []\n",
        "    for i in solved:\n",
        "        x.append(i[6])\n",
        "    x = np.array(x)\n",
        "    return x\n",
        "\n",
        "A, x, b = find_system(matrix)[0], find_voltages(matrix), find_system(matrix)[1]"
      ]
    },
    {
      "cell_type": "code",
      "execution_count": 15,
      "metadata": {
        "id": "y9Giro0v1g3Y"
      },
      "outputs": [
        {
          "name": "stdout",
          "output_type": "stream",
          "text": [
            "[[ 3 -1 -1  0  0  0]\n",
            " [-1  4 -1 -1  0  0]\n",
            " [ 0 -1 -1  4 -1 -1]\n",
            " [ 0  0 -1 -1  4 -1]\n",
            " [ 0  0  0 -1 -1  3]\n",
            " [-1 -1  4 -1 -1  0]]\n",
            "[5 5 0 0 0 5]\n",
            "[5.07541478 4.826546   5.39969834 3.83107089 2.86576169 2.23227753]\n"
          ]
        }
      ],
      "source": [
        "# codigo para la verificacion\n",
        "print(A)\n",
        "print(b)\n",
        "print(x)"
      ]
    },
    {
      "cell_type": "code",
      "execution_count": 16,
      "metadata": {
        "id": "YBQxjpLU1mrU"
      },
      "outputs": [],
      "source": [
        "alpha = 0\n",
        "matrix = np.array([[0,0,1,1],\n",
        "                  [0,0,2,1],\n",
        "                  [0,0,2,1],\n",
        "                  [0,0,2,1],\n",
        "                  [0,0,2,1],\n",
        "                  [0,0,2,1],\n",
        "                  [1,1,0,0]])\n",
        "for i in matrix:\n",
        "    for j in i:\n",
        "        if j == 1:\n",
        "            alpha += 1\n",
        "        elif j == 2:\n",
        "            temp = alpha/(alpha+1)\n",
        "            alpha = temp\n",
        "        else:\n",
        "            pass"
      ]
    },
    {
      "cell_type": "code",
      "execution_count": 17,
      "metadata": {
        "colab": {
          "base_uri": "https://localhost:8080/"
        },
        "id": "PBDAWAXw65-f",
        "outputId": "4642598f-b1d3-4091-aa5b-ca050e546cf3"
      },
      "outputs": [
        {
          "name": "stdout",
          "output_type": "stream",
          "text": [
            "3.6180555555555554\n"
          ]
        }
      ],
      "source": [
        "# codigo para la verificacion\n",
        "print(alpha)"
      ]
    },
    {
      "cell_type": "markdown",
      "metadata": {
        "id": "CkoXSN869-OF"
      },
      "source": [
        "## Problema 3\n",
        "\n",
        "Considere dos bloques de masa $m_1$ y $m_2$, el bloque $m_1$ empieza con una velocidad $v_1 = - 1 \\text{ m/s}$ el bloque $m_2$ empieza en reposo. Primero el bloque 1 choca con el bloque 2 de forma elastica, luego el bloque 2 choca elasticamente contra la pared, y luego se dirige el bloque 2 de nuevo hacia el bloque 1 para chocar de nuevo elasticamente. El bloque 2 choca elasticamente varias veces contra la pared y contra el bloque 1 y se cuentan el número de choques elasticos totales, hasta que los bloques dejan de chocar.\n",
        "\n",
        "![](https://raw.githubusercontent.com/diegour1/MetodosComputacionales1/main/DataFiles/image9.png)\n",
        "\n",
        "Si los bloques 1 y 2 tienen en cierto momento una velocidad $v_{1i}$ y $v_{2i}$ la velocidad después del choque elastico están dados por, \n",
        "\n",
        "$$\n",
        "v_{1f} = v_{1i}\\Big(\\frac{m_1-m_2}{m_1+m_2}\\Big) + v_{2i}\\Big(\\frac{2m_2}{m_1+m_2}\\Big)\n",
        "$$\n",
        "\n",
        "$$\n",
        "v_{2f} = v_{1i}\\Big(\\frac{2m_1}{m_1+m_2}\\Big) + v_{2i}\\Big(\\frac{m_2-m_1}{m_1+m_2}\\Big)\n",
        "$$\n",
        "\n",
        "Cree la función `num_collisions(m1, m2)` que reciba las masas $m_1$ y $m_2$ de los bloques 1 y 2 respectivamente, y retorne el número de choques totales `count`, la velocidad inicial del bloque 1 es $v_1 = -1 \\text{ m/s}$ y el bloque 2 empieza en reposo.\n",
        "\n",
        "Pista: Escriba las ecuaciones anteriores de forma matricial. Más detalles del problema se pueden encontrar en este [link](https://www.youtube.com/watch?v=HEfHFsfGXjs&ab_channel=3Blue1Brown).\n",
        "\n",
        "Para pensar (no para hacer): ¿ Cómo resolvería el problema analíticamente ? (Sin ver las soluciones en internet)"
      ]
    },
    {
      "cell_type": "code",
      "execution_count": 18,
      "metadata": {
        "id": "JfFi4-_1JDnM"
      },
      "outputs": [],
      "source": [
        "def num_collisions(m1, m2):\n",
        "  v1 = -1\n",
        "  v2 = 0\n",
        "  count = 0\n",
        "  while v1 < v2:\n",
        "    count += 1\n",
        "    v1_old = v1\n",
        "    v2_old = v2\n",
        "    v1 = (v1_old*((m1-m2)/(m1+m2)))+(v2_old*((2*m2)/(m1+m2)))\n",
        "    v2 = (v1_old*((2*m1)/(m1+m2)))+(v2_old*((m2-m1)/(m1+m2)))\n",
        "    if v2 < 0:\n",
        "      count += 1\n",
        "      v2 = -v2\n",
        "  return count"
      ]
    },
    {
      "cell_type": "code",
      "execution_count": 19,
      "metadata": {
        "id": "qE050xQSJ8dU"
      },
      "outputs": [
        {
          "name": "stdout",
          "output_type": "stream",
          "text": [
            "3\n",
            "10\n",
            "31\n",
            "99\n",
            "314\n",
            "993\n",
            "3141\n",
            "9934\n",
            "31415\n"
          ]
        }
      ],
      "source": [
        "# codigo para la verificacion\n",
        "print(num_collisions(1, 1))\n",
        "print(num_collisions(10, 1))\n",
        "print(num_collisions(100, 1))\n",
        "print(num_collisions(1000, 1))\n",
        "print(num_collisions(10000, 1))\n",
        "print(num_collisions(100000, 1))\n",
        "print(num_collisions(1000000, 1))\n",
        "print(num_collisions(10000000, 1))\n",
        "print(num_collisions(100000000, 1))"
      ]
    },
    {
      "cell_type": "markdown",
      "metadata": {
        "id": "3nCVK4aX0HzO"
      },
      "source": [
        "## Bono 0.5: \n",
        "\n",
        "Obtenga las ecuaciones del choque elastico del problema 3."
      ]
    },
    {
      "cell_type": "code",
      "execution_count": null,
      "metadata": {
        "id": "bBPfdhrA9gtZ"
      },
      "outputs": [],
      "source": []
    }
  ],
  "metadata": {
    "colab": {
      "name": "Taller4MC.ipynb",
      "provenance": []
    },
    "kernelspec": {
      "display_name": "Python 3",
      "name": "python3"
    },
    "language_info": {
      "codemirror_mode": {
        "name": "ipython",
        "version": 3
      },
      "file_extension": ".py",
      "mimetype": "text/x-python",
      "name": "python",
      "nbconvert_exporter": "python",
      "pygments_lexer": "ipython3",
      "version": "3.8.5"
    }
  },
  "nbformat": 4,
  "nbformat_minor": 0
}
