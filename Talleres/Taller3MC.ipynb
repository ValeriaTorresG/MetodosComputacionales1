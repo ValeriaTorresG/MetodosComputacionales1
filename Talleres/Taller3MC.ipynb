{
  "cells": [
    {
      "cell_type": "markdown",
      "metadata": {
        "id": "0Z8Dn_z6Mb9b"
      },
      "source": [
        "# Taller 3\n",
        "\n",
        "## Métodos Computacionales 1 2022-10\n",
        "\n",
        "Instrucciones: Suba el jupyter notebook **.ipynb** en la actividad de bloque neon. El archivo debe ser nombrado ApellidoNombre_ApellidoNombre_Taller3.ipynb. **El archivo debe poder correr en el binder de la magistral** \n",
        "\n",
        "Si un ejercicio demora **más de 10 segundos** en correr se considerará **incorrecto**.\n",
        "\n",
        "No modifique el cuaderno, ni los casos de prueba, puede correr los casos de prueba pero no modificarlos.\n",
        "\n",
        "**Entrega: Viernes 11 de Marzo 11:59 pm**"
      ]
    },
    {
      "cell_type": "markdown",
      "metadata": {
        "id": "xLdV95A5DY-l"
      },
      "source": [
        "## Problema 1\n",
        "\n",
        "a ) Implemente el método de interpolación de Lagrange que ajuste un polinomio de grado 10 a los siguientes datos experimentales.\n",
        "\n",
        "\n",
        "\n",
        "```\n",
        "    x_values = 0, 20, 40, 60, 80, 100, 120, 140, 160, 180, 200\n",
        "    y_values = 0.0, 0.0, 0.0, 0.01, 0.16, 0.91, 1.93, 1.51, 0.43, 0.05, 0.0\n",
        "```\n",
        "\n",
        "El código debe generar una figura que contenga los puntos asociados a los datos experimentales y la curva del polinomio de Lagrange.\n",
        "\n",
        "b) Obtenga los coeficientes del polinomio interpolador anterior guardelos en la variable `coeffs`. Es decir escriba el polinomio interpolador como, \n",
        "\n",
        "$$ f(x) = \\sum_{i=0}^{10}a_ix^i$$\n",
        "\n",
        "Para verificar su resultado debe gráficar el polinomio a partir de los coeficientes junto con los puntos experimentales.\n",
        "\n"
      ]
    },
    {
      "cell_type": "code",
      "execution_count": 2,
      "metadata": {
        "id": "cEYXbp4cUd-h"
      },
      "outputs": [],
      "source": [
        "import matplotlib.pyplot as plt\n",
        "import numpy as np\n",
        "\n",
        "# tu codigo aqui"
      ]
    },
    {
      "cell_type": "code",
      "execution_count": 4,
      "metadata": {
        "colab": {
          "base_uri": "https://localhost:8080/"
        },
        "id": "P4igesASU7HW",
        "outputId": "bc3706f3-b4c2-43d5-800a-deed4116cf9e"
      },
      "outputs": [
        {
          "name": "stdout",
          "output_type": "stream",
          "text": [
            "[0. 0. 0. 0. 0. 0. 0. 0. 0. 0. 0.]\n"
          ]
        }
      ],
      "source": [
        "## Coeficients\n",
        "coeffs = np.zeros(11)\n",
        "\n",
        "### tu codigo aqui\n",
        "\n",
        "print(coeffs)"
      ]
    },
    {
      "cell_type": "code",
      "execution_count": 5,
      "metadata": {
        "id": "Cca7c87ebJFI"
      },
      "outputs": [],
      "source": [
        "# Grafico con el polinomio a partir de los coeficientes\n",
        "\n"
      ]
    },
    {
      "cell_type": "markdown",
      "metadata": {
        "id": "TtDSGwXXOzhk"
      },
      "source": [
        "## Problema 2\n",
        "\n",
        "Una forma de generalizar el método de integración del trapecio para una integral doble de una función $f(x, y)$ consiste en dividir el plano xy en una grilla de cuadrados iguales y calcular el promedio del valor de la función de cada uno de los 4 vértices de cada cuadrado pequeño de la grilla, ver imagen.\n",
        "\n",
        "![](https://raw.githubusercontent.com/diegour1/MetodosComputacionales1/main/DataFiles/image6.png)\n",
        "\n",
        "Calcule numéricamente el volumen de una semiesfera de radio 1 (domo) centrada en el origen del plano xyz, realizando lo siguiente: \n",
        "\n",
        "\n",
        "\n",
        "*   Cree una grilla entre -1 y 1 en el plano xy, donde el número de cuadrados en cada lado de la grilla sea $n$. Es decir la grilla tendría $n+1$ puntos en cada eje, y $n^2$ cuadrados pequeños.\n",
        "*   Para cada cuadrado pequeño calcule el promedio la función en los cuatro vértices y multiplique por el área del cuadrado pequeño. Si el punto queda fuera de la esfera asuma que el valor de la función $f(x, y)$ es cero.\n",
        "*  Calcule la integral del volumen de la semiesfera de radio 1.\n",
        "\n",
        "Cree la función `volume_semisphere(n)` que recibe `int` `n` el número de cuadrados por cada lado de la grilla del plano xy, y retorna un `float` con el volumen de la semiesfera de radio 1.\n",
        "\n",
        "Al final incluya los siguientes `prints` para la evaluación de su ejercicio:\n",
        "\n",
        "\n",
        "```\n",
        "print(f\"Volume semisphere with n = 2: {volume_semisphere(2)}\")\n",
        "print(f\"Volume semisphere with n = 3: {volume_semisphere(3)}\")\n",
        "print(f\"Volume semisphere with n = 10: {volume_semisphere(10)}\")\n",
        "print(f\"Volume semisphere with n = 100: {volume_semisphere(100)}\")\n",
        "```\n",
        "\n",
        "\n"
      ]
    },
    {
      "cell_type": "code",
      "execution_count": 17,
      "metadata": {
        "id": "IUdjvIUdSouw"
      },
      "outputs": [
        {
          "name": "stdout",
          "output_type": "stream",
          "text": [
            "Volume semisphere with n = 2: 0.25\n",
            "Volume semisphere with n = 3: 0.5905285892592281\n",
            "Volume semisphere with n = 10: 0.5043494054215892\n",
            "Volume semisphere with n = 100: 0.5234617495819447\n"
          ]
        }
      ],
      "source": [
        "import numpy as np\n",
        "\n",
        "def f(x,y):\n",
        "    if (x**2+y**2) <= 1:\n",
        "        return np.sqrt(1-(x**2)-(y**2))\n",
        "    else:\n",
        "        return 0\n",
        "\n",
        "def volume_semisphere(n)->float:\n",
        "    grid = np.ndarray((n+1,n+1), dtype=np)\n",
        "    mean = np.ndarray((n,n), dtype=np)\n",
        "    a = 0\n",
        "    for i in range(0,n+1,1):\n",
        "        b = 0\n",
        "        for j in range(0,n+1,1):\n",
        "            xy = (a,b)\n",
        "            b += 2/n\n",
        "            grid[i][j] = xy\n",
        "            grid[i][j] = f(grid[i][j][0],grid[i][j][1])\n",
        "        a += 2/n\n",
        "    area = (2/n)**2\n",
        "    for k in range(0,n,1):\n",
        "        for l in range(0,n,1):\n",
        "            if k<n and l<n:\n",
        "                mean[k][l] = ((grid[k][l]+grid[k+1][l]+grid[k][l+1]+grid[k+1][l+1])/4)*area\n",
        "            elif k<n and l==n:\n",
        "                mean[k][l] = ((grid[k][l]+grid[k-1][l]+grid[k][l+1]+grid[k-1][l+1])/4)*area\n",
        "            elif k==n and l<n:\n",
        "                mean[k][l] = ((grid[k][l]+grid[k+1][l]+grid[k][l-1]+grid[k+1][l-1])/4)*area\n",
        "    volume_sphere = np.sum(mean)\n",
        "    return volume_sphere\n",
        "\n",
        "print(f\"Volume semisphere with n = 2: {volume_semisphere(2)}\")\n",
        "print(f\"Volume semisphere with n = 3: {volume_semisphere(3)}\")\n",
        "print(f\"Volume semisphere with n = 10: {volume_semisphere(10)}\")\n",
        "print(f\"Volume semisphere with n = 100: {volume_semisphere(100)}\")"
      ]
    },
    {
      "cell_type": "markdown",
      "metadata": {
        "id": "CkoXSN869-OF"
      },
      "source": [
        "## Problema 3\n",
        "\n",
        "Considere la integral, \n",
        "\n",
        "$$ I = \\int_0^1\\sin^2(\\sqrt{100x})\\,dx$$\n",
        "\n",
        "Cree la función `gauss_integrate(n)`, que reciba el grado `n` del polinomio de Gauss-Legendre y retorne la integral de la función pedida con el método de gauss-legendre.\n",
        "\n",
        "Verifique sus resultados obtenidos usando la libreria `scipy.integrate`. Imprima los resultados obtenidos con la libreria."
      ]
    },
    {
      "cell_type": "code",
      "execution_count": 1,
      "metadata": {
        "id": "Tx8fBk37gXrD"
      },
      "outputs": [],
      "source": [
        "import numpy as np\n",
        "\n",
        "def f(x):\n",
        "    return (np.sin(np.sqrt(100*x)))**2\n",
        "\n",
        "def gauss_integrate(n, a=0, b=1):\n",
        "    xi, wi = np.polynomial.legendre.leggauss(n)\n",
        "    u = (b-a)*xi/2+(a+b)/2\n",
        "    integral = ((b-a)/2)*np.sum(wi*f(u))\n",
        "    return integral"
      ]
    },
    {
      "cell_type": "code",
      "execution_count": 2,
      "metadata": {
        "colab": {
          "base_uri": "https://localhost:8080/"
        },
        "id": "ni3JHLRDoqBv",
        "outputId": "d55bfe9f-51c0-43f5-c5ca-d3177fe03ab5"
      },
      "outputs": [
        {
          "name": "stdout",
          "output_type": "stream",
          "text": [
            "0.5024843310662972\n",
            "0.6273262731105194\n",
            "0.23603692720508807\n",
            "0.42670930479562463\n",
            "0.4558325323090848\n",
            "0.4558325323090862\n"
          ]
        }
      ],
      "source": [
        "print(gauss_integrate(1))\n",
        "print(gauss_integrate(2))\n",
        "print(gauss_integrate(3))\n",
        "print(gauss_integrate(4))\n",
        "print(gauss_integrate(20))\n",
        "print(gauss_integrate(100))"
      ]
    },
    {
      "cell_type": "code",
      "execution_count": 3,
      "metadata": {
        "id": "sQJZ_280pLqK"
      },
      "outputs": [],
      "source": [
        "# Verificacion del metodo\n",
        "from scipy import integrate\n",
        "\n",
        "def verify_gauss_integrate():\n",
        "    x = lambda x: f(x)\n",
        "    return(integrate.quad(x, 0, 1)[0])"
      ]
    },
    {
      "cell_type": "code",
      "execution_count": 4,
      "metadata": {
        "id": "bMcl2sqZpgbb"
      },
      "outputs": [
        {
          "name": "stdout",
          "output_type": "stream",
          "text": [
            "0.4558325323090851\n"
          ]
        }
      ],
      "source": [
        "print(verify_gauss_integrate())"
      ]
    }
  ],
  "metadata": {
    "colab": {
      "name": "Taller3MC.ipynb",
      "provenance": []
    },
    "kernelspec": {
      "display_name": "Python 3",
      "name": "python3"
    },
    "language_info": {
      "codemirror_mode": {
        "name": "ipython",
        "version": 3
      },
      "file_extension": ".py",
      "mimetype": "text/x-python",
      "name": "python",
      "nbconvert_exporter": "python",
      "pygments_lexer": "ipython3",
      "version": "3.8.5"
    }
  },
  "nbformat": 4,
  "nbformat_minor": 0
}
