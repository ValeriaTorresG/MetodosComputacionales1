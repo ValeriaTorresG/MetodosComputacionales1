{
  "cells": [
    {
      "cell_type": "markdown",
      "metadata": {
        "id": "0Z8Dn_z6Mb9b"
      },
      "source": [
        "# Taller 5\n",
        "\n",
        "## Métodos Computacionales 1 2022-10\n",
        "\n",
        "Instrucciones: Suba el jupyter notebook **.ipynb** en la actividad de bloque neon. El archivo debe ser nombrado ApellidoNombre_ApellidoNombre_Taller5.ipynb. **El archivo debe poder correr en el binder de la magistral** \n",
        "\n",
        "Si un ejercicio demora **más de 10 segundos** en correr se considerará **incorrecto**.\n",
        "\n",
        "No modifique el cuaderno, ni los casos de prueba, puede correr los casos de prueba pero no modificarlos.\n",
        "\n",
        "**Entrega: Viernes 29 de Abril 11:59 pm**"
      ]
    },
    {
      "cell_type": "markdown",
      "metadata": {
        "id": "VvtNBbxJ0n7a"
      },
      "source": [
        "## Librerias"
      ]
    },
    {
      "cell_type": "code",
      "execution_count": null,
      "metadata": {
        "id": "mmgcGeXk0pPA"
      },
      "outputs": [],
      "source": [
        "import matplotlib.pyplot as plt\n",
        "import numpy as np"
      ]
    },
    {
      "cell_type": "markdown",
      "metadata": {
        "id": "TtDSGwXXOzhk"
      },
      "source": [
        "## Problema 1\n",
        "\n",
        "A partir del método de Montecarlo, calcule el volumen de un cono cuya base tiene radio $1$, y cuya altura es $3$, con 100000 (cien mil puntos de Montecarlo). Guarde el volumen en la variable `volume_cone`, al final incluya el siguiente `print` para la evaluación de su ejercicio. \n",
        "```\n",
        "print(f\"Volume of a cone = {volume_cone}\")\n",
        "```\n",
        "\n",
        "\n",
        "\n"
      ]
    },
    {
      "cell_type": "code",
      "execution_count": 13,
      "metadata": {
        "colab": {
          "base_uri": "https://localhost:8080/"
        },
        "id": "lFwe8oiWI4Uj",
        "outputId": "45127420-8532-4f7f-b206-8011193cf2d4"
      },
      "outputs": [
        {
          "name": "stdout",
          "output_type": "stream",
          "text": [
            "Volume of a cone = 4.711558287231787\n"
          ]
        }
      ],
      "source": [
        "#!resultado = (pi*r^2*h)/3 = pi = 3,14159...\n",
        "import numpy as np\n",
        "import random\n",
        "import matplotlib.pyplot as plt\n",
        "\n",
        "#limits\n",
        "a = 0\n",
        "b = 3 #h\n",
        "n = 100000\n",
        "\n",
        "#matrix\n",
        "matrix = np.zeros(n)\n",
        "\n",
        "#iterating over each Value of the matrix and filling with a random value between the limits a and b\n",
        "for i in range (len(matrix)):\n",
        "    matrix[i] = random.uniform(a,b)\n",
        "\n",
        "#variable to store sum of the functions\n",
        "volume_cone = 0\n",
        "integral = 0\n",
        "\n",
        "#function\n",
        "def f(x,r=1,h=3):\n",
        "    return (np.pi)*(r/h)*x\n",
        "\n",
        "# iterates and sums up values of different functions of x\n",
        "for i in matrix:\n",
        "    integral += f(i)\n",
        " \n",
        "volume_cone = (b-a)/float(n)*integral\n",
        "\n",
        "print(f\"Volume of a cone = {volume_cone}\")"
      ]
    },
    {
      "cell_type": "markdown",
      "metadata": {
        "id": "xLdV95A5DY-l"
      },
      "source": [
        "## Problema 2\n",
        "\n",
        "Considere $D = \\{d_1, \\cdots d_n\\}$ un conjunto de documentos y $T = \\{t_1, \\cdots t_m\\}$ un conjunto de términos (palabras). Considere además, $TD = (TD_{i,j})_{i=1\\cdots m, j = 1 \\cdots n}$ como una matriz tal que $TD_{i, j}$ indica el número de veces que el término $t_i$ (palabra) aparece en el documento $d_j$. También, considere $l_i$ como la longitud (número de letras) del término $t_i$, y sea $L = (l_1, \\cdots, l_m)$ un vector columna. Adicionalmente, asuma un proceso en el cual el documento $d_j$ is escogido aleatoriamente con probabilidad uniforme y el termino $t_i$, presente en el documento $d_j$,  es escogido con una probabilidad proporcional a la frecuencia de $t_i$ en el documento $d_j$.\n",
        "\n",
        "Para las siguientes expresiones usted debe mostrar lo siguiente:\n",
        "\n",
        "*   La expresión matemática de lo que se le pide en términos de $TD$, $L$, constantes (es decir en terminos de matrices, vectores, escalares) y operaciones algebraícas o del algebra lineal.\n",
        "*   Una expresión en `numpy`, tal que al ser evaluada se obtenga, la matriz, el vector o el escalar requerido (La expresión debe estar descrita en términos del algebra lineal, es decir no se pueden usar estructuras de control, `for`, `while`, etc)\n",
        "*   El resultado de las expresiones usando los siguientes datos:\n",
        "\n",
        "\n",
        "$$\n",
        "TD =  \\begin{bmatrix}\n",
        "2 & 3 & 0 & 3 & 7 \\\\  0 & 5 & 5 & 0 & 3 \\\\ 5 & 0 & 7 & 3 & 3 \\\\ 3 & 1 & 0 & 9 & 9 \\\\ 0 & 0 & 7 & 1 & 3 \\\\ 6 & 9 & 4 & 6 & 0 \n",
        "\\end{bmatrix}, \\quad L = \\begin{bmatrix}\n",
        "5 \\\\  2 \\\\ 3 \\\\ 6 \\\\ 4 \\\\ 3 \\\\ \n",
        "\\end{bmatrix}\n",
        "$$\n",
        "\n",
        "\n",
        "\n"
      ]
    },
    {
      "cell_type": "code",
      "execution_count": 5,
      "metadata": {
        "id": "4CUcPGP0xi1z"
      },
      "outputs": [
        {
          "name": "stdout",
          "output_type": "stream",
          "text": [
            "[[0 1 2 3 4 5 6 7 9]\n",
            " [8 2 1 7 1 3 2 3 3]]\n"
          ]
        }
      ],
      "source": [
        "import numpy as np\n",
        "#m columnas\n",
        "#n filas\n",
        "\n",
        "TD = np.array([[2, 3, 0, 3, 7],[0, 5, 5, 0, 3],[5, 0, 7, 3, 3],[3, 1, 0, 9, 9],[0, 0, 7, 1, 3],[6, 9, 4, 6, 0]])\n",
        "\n",
        "def matrix(a):\n",
        "\n",
        "    #Crear matriz\n",
        "    matrix = np.array()\n",
        "    unique_elements, counts_elements = np.unique(a, return_counts=True)\n",
        "    print(np.asarray((unique_elements, counts_elements)))\n",
        "\n",
        "matrix(TD)\n",
        "\n",
        "# Arrays for the computations\n",
        "\n",
        "TD = np.array([[2, 3, 0, 3, 7],[0, 5, 5, 0, 3],[5, 0, 7, 3, 3],[3, 1, 0, 9, 9],[0, 0, 7, 1, 3],[6, 9, 4, 6, 0]])\n",
        "L = np.array([[5, 2, 3, 6, 4, 3]]).T\n",
        "m , n = TD.shape\n",
        "#TD"
      ]
    },
    {
      "cell_type": "markdown",
      "metadata": {
        "id": "DmZ1Xk-xx1OR"
      },
      "source": [
        "(a) Matriz $P(T, D)$ (cada posición de la matriz, $P(T, D)_{i,j}$ indica la probabilidad conjunta del término $t_i$ y el documento $d_j$, $P(t_j, d_j)$)\n",
        "\n",
        "Escriba su expresión matemática a continuación, \n",
        "\n",
        "$$\n",
        "P(T, D)_{i,j} = \n",
        "$$"
      ]
    },
    {
      "cell_type": "code",
      "execution_count": null,
      "metadata": {
        "id": "Soak5hOoykxG"
      },
      "outputs": [],
      "source": [
        "### Escriba e imprima la matriz con los valores de ejemplo a continuación\n",
        "\n"
      ]
    },
    {
      "cell_type": "markdown",
      "metadata": {
        "id": "FmVDpv4SzDla"
      },
      "source": [
        "(b) Matriz $P(T|D)$\n",
        "\n",
        "Escriba su expresión matemática a continuación, \n",
        "\n",
        "$$\n",
        "P(T|D)_{i, j} = \n",
        "$$"
      ]
    },
    {
      "cell_type": "code",
      "execution_count": null,
      "metadata": {
        "id": "JXlgbXHRzYvo"
      },
      "outputs": [],
      "source": [
        "### Escriba e imprima la matriz con los valores de ejemplo a continuación\n",
        "\n"
      ]
    },
    {
      "cell_type": "markdown",
      "metadata": {
        "id": "OBYAuE1TzauB"
      },
      "source": [
        "(c) Vector P(D)\n",
        "\n",
        "Escriba su expresión matemática a continuación, \n",
        "\n",
        "$$\n",
        "P(D)_j = \n",
        "$$"
      ]
    },
    {
      "cell_type": "code",
      "execution_count": null,
      "metadata": {
        "id": "0ZuKBnSfzuHX"
      },
      "outputs": [],
      "source": [
        "### Escriba e imprima el vector con los valores de ejemplo a continuación\n",
        "\n"
      ]
    },
    {
      "cell_type": "markdown",
      "metadata": {
        "id": "Haqd76Hlz2V6"
      },
      "source": [
        "## Problema 3\n",
        "Continuación problema anterior\n",
        "\n",
        "(d) Vector P(T)\n",
        "\n",
        "Escriba su expresión matemática a continuación, \n",
        "\n",
        "$$\n",
        "P(T)_i = \n",
        "$$"
      ]
    },
    {
      "cell_type": "code",
      "execution_count": null,
      "metadata": {
        "id": "q8sqdTtxz2V7"
      },
      "outputs": [],
      "source": [
        "### Escriba e imprima el vector con los valores de ejemplo a continuación\n",
        "\n"
      ]
    },
    {
      "cell_type": "markdown",
      "metadata": {
        "id": "hiCvvxLW0LmV"
      },
      "source": [
        "(e) Matriz $P(D|T)$\n",
        "\n",
        "Escriba su expresión matemática a continuación, \n",
        "\n",
        "$$\n",
        "P(D|T)_{i, j} = \n",
        "$$"
      ]
    },
    {
      "cell_type": "code",
      "execution_count": null,
      "metadata": {
        "id": "py-QC25p0LmX"
      },
      "outputs": [],
      "source": [
        "### Escriba e imprima la matriz con los valores de ejemplo a continuación\n",
        "\n"
      ]
    },
    {
      "cell_type": "markdown",
      "metadata": {
        "id": "r2zS_j-r0g0z"
      },
      "source": [
        "(f) Escalar $E[l]$ (el valor esperado de la variable aleatoria $l$ que corresponde a la longitud de un término escogido aleatoriamente) (sin importar el documento)\n",
        "\n",
        "Escriba su expresión matemática a continuación, \n",
        "\n",
        "$$\n",
        "E[l] = \n",
        "$$"
      ]
    },
    {
      "cell_type": "code",
      "execution_count": null,
      "metadata": {
        "id": "QAoaKJDE1RXD"
      },
      "outputs": [],
      "source": [
        "### Escriba e imprima el escalar con los valores de ejemplo a continuación\n",
        "\n"
      ]
    },
    {
      "cell_type": "markdown",
      "metadata": {
        "id": "LhFWfkQ41VZj"
      },
      "source": [
        "(g) Escalar V(l) (Varianza de $l$)\n",
        "\n",
        "Escriba su expresión matemática a continuación, \n",
        "\n",
        "$$\n",
        "V(l) = \n",
        "$$"
      ]
    },
    {
      "cell_type": "code",
      "execution_count": null,
      "metadata": {
        "id": "IM8U5xQI1m5R"
      },
      "outputs": [],
      "source": [
        "### Escriba e imprima el escalar con los valores de ejemplo a continuación\n",
        "\n"
      ]
    }
  ],
  "metadata": {
    "colab": {
      "name": "Taller5MC.ipynb",
      "provenance": []
    },
    "kernelspec": {
      "display_name": "Python 3",
      "name": "python3"
    },
    "language_info": {
      "codemirror_mode": {
        "name": "ipython",
        "version": 3
      },
      "file_extension": ".py",
      "mimetype": "text/x-python",
      "name": "python",
      "nbconvert_exporter": "python",
      "pygments_lexer": "ipython3",
      "version": "3.8.5"
    }
  },
  "nbformat": 4,
  "nbformat_minor": 0
}
