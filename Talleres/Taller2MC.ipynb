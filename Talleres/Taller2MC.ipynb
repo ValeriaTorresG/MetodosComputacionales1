{
  "cells": [
    {
      "cell_type": "markdown",
      "metadata": {
        "id": "0Z8Dn_z6Mb9b"
      },
      "source": [
        "# Taller 2\n",
        "\n",
        "## Métodos Computacionales 1 2022-10\n",
        "\n",
        "Instrucciones: Suba el jupyter notebook **.ipynb** en la actividad de bloque neon. El archivo debe ser nombrado ApellidoNombre_ApellidoNombre_Taller2.ipynb. **El archivo debe poder correr en el binder de la magistral** \n",
        "\n",
        "Si un ejercicio demora **más de 10 segundos** en correr se considerará **incorrecto**.\n",
        "\n",
        "No modifique el cuaderno, ni los casos de prueba, puede correr los casos de prueba pero no modificarlos.\n",
        "\n",
        "**Entrega: Viernes 25 de Febrero 11:59 pm**"
      ]
    },
    {
      "cell_type": "markdown",
      "metadata": {
        "id": "xLdV95A5DY-l"
      },
      "source": [
        "## Problema 1\n",
        "\n",
        "Demuestre los siguientes resultados:\n",
        "\n",
        "a) Teorema de euler\n",
        "\n",
        "$$ e^{i\\theta} = \\cos{}\\theta + i\\sin{\\theta}$$\n",
        "\n",
        "b) Segunda derivada de la función $f(x)$ en el punto $x_0$, con paso a la derecha e izquierda de magnitud $h$.\n",
        "\n",
        "$$ f''(x_0) = \\frac{f(x_0+h)+f(x_0-h)-2f(x_0)}{h^2} $$\n",
        "\n",
        "¿Cuál es el orden del error de la aproximación?"
      ]
    },
    {
      "cell_type": "markdown",
      "metadata": {
        "id": "TtDSGwXXOzhk"
      },
      "source": [
        "## Problema 2\n",
        "\n",
        "Considere el potencial electrico entre dos cargas de la misma magnitud pero de signo opuesto medido en la posición $\\vec{r}$ desde el centro de coordenadas dado por,\n",
        "\n",
        "$$ V(\\vec{r}) = \\frac{q}{4\\pi \\epsilon_0}\\Bigg[\\frac{1}{|\\vec{r}-\\vec{r_+}|}-\\frac{1}{|\\vec{r}-\\vec{r_-}|}\\Bigg], $$\n",
        "\n",
        "donde $\\vec{r_+}$, y $\\vec{r_-}$, son las posiciones de las cargas positivas y negativas respectivamente. En este ejercicio solamente nos vamos a enfocar en las dimensiones $x$ y $y$.\n",
        "\n",
        "Dados los siguientes parametros, \n",
        "\n",
        "\n",
        "$$\\vec{r_+} = (-0.25\\text{ m}, 0), \\quad \\vec{r_-} = (0.25\\text{ m}, 0), \\quad \\frac{q}{4\\pi \\epsilon_0} = 1, $$\n",
        "\n",
        "\n",
        "y que el campo electrico está dado por, \n",
        "\n",
        "$$\\vec{E}(\\vec{r}) = \\vec{\\nabla} V(\\vec{r}),$$\n",
        "\n",
        "use la derivada central para graficar el campo electrico en el plano xy, gráfique en el plano $R \\in [-1, 1] \\times [-1, 1] \\text{ m}$ con pasos de $0.1 \\text{ m}$. Para la gráfica vectorial use, \n",
        "```\n",
        "ax.quiver(x[i],y[j],Ex[i,j],Ey[i,j])\n",
        "```\n",
        "Al final el resultado debe ser similar al siguiente gráfico, \n",
        "\n",
        "![](https://raw.githubusercontent.com/diegour1/MetodosComputacionales1/main/DataFiles/image5.png)"
      ]
    },
    {
      "cell_type": "code",
      "execution_count": 3,
      "metadata": {
        "id": "RicSOaS7zfAH"
      },
      "outputs": [],
      "source": [
        "import numpy as np\n",
        "import matplotlib.pyplot as plt\n",
        "\n",
        "# Tu codigo aqui"
      ]
    },
    {
      "cell_type": "markdown",
      "metadata": {
        "id": "CkoXSN869-OF"
      },
      "source": [
        "## Problema 3\n",
        "Existe un punto magico entre la tierra y la Luna, llamado el punto Lagrangiano $L_1$. En este punto un satelite orbita la tierra de forma sincronica con la Luna a la velocidad angular $\\omega$ de la Luna, manteniendose siempre entre los dos cuerpos celestes. Esto sucede porque la fuerza hacia adentro debido a la tierra y la fuerza hacia afuera debido a la Luna se combinan para crear exactamente la fuerza centripeta necesaria para mantener el satelite en su orbita. \n",
        "\n",
        "El dibujo se presenta a continuación:\n",
        "\n",
        "\n",
        "![](https://raw.githubusercontent.com/diegour1/MetodosComputacionales1/main/DataFiles/image3.png)\n",
        "\n",
        "Asumiendo que las orbitas son circulares, que la distancia entre el centro de la tierra y el centro de la Luna es $R$, y que la Tierra tiene una masa $M$ mucho mayor que la masa de la Luna $m$ y que la masa del satelite, encuentre la distancia $r$, con una precisión de $10^{-4}$, entre el centro de la Tierra y el satelite con el método de Newton-Raphson, la ecuación es de grado 5 y no se puede resolver facilmente de forma analitica. \n",
        "\n",
        "Considere los siguientes parametros:\n",
        "\n",
        "$$ G = 6.674 \\times 10^{-11} \\quad [m^3kg^{-1}s^{-2}] $$\n",
        "$$ M = 5.974 \\times 10^{24} \\quad [kg]$$\n",
        "$$ m = 7.348 \\times 10^{22} \\quad [kg]$$\n",
        "$$ R = 3.844 \\times 10^{8} \\quad [m]$$\n",
        "$$ \\omega = 2.662 \\times 10^{-6} \\quad [s^{-1}]$$"
      ]
    },
    {
      "cell_type": "code",
      "execution_count": 8,
      "metadata": {
        "colab": {
          "base_uri": "https://localhost:8080/"
        },
        "id": "8-zGlrJnYg3e",
        "outputId": "e6b7f7e6-9dcd-4b2f-e53b-158b6b307017"
      },
      "outputs": [
        {
          "ename": "KeyboardInterrupt",
          "evalue": "",
          "output_type": "error",
          "traceback": [
            "\u001b[1;31m---------------------------------------------------------------------------\u001b[0m",
            "\u001b[1;31mKeyboardInterrupt\u001b[0m                         Traceback (most recent call last)",
            "\u001b[1;32m<ipython-input-8-8051b79f8dc4>\u001b[0m in \u001b[0;36m<module>\u001b[1;34m\u001b[0m\n\u001b[0;32m     20\u001b[0m     \u001b[1;32mreturn\u001b[0m \u001b[0mr_distance\u001b[0m\u001b[1;33m\u001b[0m\u001b[1;33m\u001b[0m\u001b[0m\n\u001b[0;32m     21\u001b[0m \u001b[1;33m\u001b[0m\u001b[0m\n\u001b[1;32m---> 22\u001b[1;33m \u001b[0mprint\u001b[0m\u001b[1;33m(\u001b[0m\u001b[0mnewton\u001b[0m\u001b[1;33m(\u001b[0m\u001b[1;33m)\u001b[0m\u001b[1;33m)\u001b[0m\u001b[1;33m\u001b[0m\u001b[1;33m\u001b[0m\u001b[0m\n\u001b[0m",
            "\u001b[1;32m<ipython-input-8-8051b79f8dc4>\u001b[0m in \u001b[0;36mnewton\u001b[1;34m(x0, error)\u001b[0m\n\u001b[0;32m     17\u001b[0m     \u001b[1;32mwhile\u001b[0m \u001b[1;33m(\u001b[0m\u001b[0mnp\u001b[0m\u001b[1;33m.\u001b[0m\u001b[0mabs\u001b[0m\u001b[1;33m(\u001b[0m\u001b[0mr_distance\u001b[0m\u001b[1;33m-\u001b[0m\u001b[0mtmp\u001b[0m\u001b[1;33m)\u001b[0m \u001b[1;33m>\u001b[0m \u001b[0merror\u001b[0m\u001b[1;33m)\u001b[0m\u001b[1;33m:\u001b[0m\u001b[1;33m\u001b[0m\u001b[1;33m\u001b[0m\u001b[0m\n\u001b[0;32m     18\u001b[0m         \u001b[0mtmp\u001b[0m \u001b[1;33m=\u001b[0m \u001b[0mr_distance\u001b[0m\u001b[1;33m\u001b[0m\u001b[1;33m\u001b[0m\u001b[0m\n\u001b[1;32m---> 19\u001b[1;33m         \u001b[0mr_distance\u001b[0m \u001b[1;33m=\u001b[0m \u001b[0mr_distance\u001b[0m \u001b[1;33m-\u001b[0m \u001b[1;33m(\u001b[0m\u001b[1;33m(\u001b[0m\u001b[0mfp\u001b[0m\u001b[1;33m(\u001b[0m\u001b[0mr_distance\u001b[0m\u001b[1;33m)\u001b[0m \u001b[1;33m/\u001b[0m \u001b[0mfp\u001b[0m\u001b[1;33m(\u001b[0m\u001b[0mr_distance\u001b[0m\u001b[1;33m)\u001b[0m\u001b[1;33m)\u001b[0m\u001b[1;33m)\u001b[0m\u001b[1;33m\u001b[0m\u001b[1;33m\u001b[0m\u001b[0m\n\u001b[0m\u001b[0;32m     20\u001b[0m     \u001b[1;32mreturn\u001b[0m \u001b[0mr_distance\u001b[0m\u001b[1;33m\u001b[0m\u001b[1;33m\u001b[0m\u001b[0m\n\u001b[0;32m     21\u001b[0m \u001b[1;33m\u001b[0m\u001b[0m\n",
            "\u001b[1;32m<ipython-input-8-8051b79f8dc4>\u001b[0m in \u001b[0;36mfp\u001b[1;34m(r, R, G, w, m, M)\u001b[0m\n\u001b[0;32m      8\u001b[0m \u001b[1;31m#f'(r)\u001b[0m\u001b[1;33m\u001b[0m\u001b[1;33m\u001b[0m\u001b[1;33m\u001b[0m\u001b[0m\n\u001b[0;32m      9\u001b[0m \u001b[1;32mdef\u001b[0m \u001b[0mfp\u001b[0m\u001b[1;33m(\u001b[0m\u001b[0mr\u001b[0m\u001b[1;33m,\u001b[0m \u001b[0mR\u001b[0m\u001b[1;33m=\u001b[0m\u001b[1;36m3.884\u001b[0m\u001b[1;33m*\u001b[0m\u001b[1;33m(\u001b[0m\u001b[1;36m10\u001b[0m\u001b[1;33m**\u001b[0m\u001b[1;36m8\u001b[0m\u001b[1;33m)\u001b[0m\u001b[1;33m,\u001b[0m \u001b[0mG\u001b[0m\u001b[1;33m=\u001b[0m\u001b[1;36m6.674\u001b[0m\u001b[1;33m*\u001b[0m\u001b[1;33m(\u001b[0m\u001b[1;36m10\u001b[0m\u001b[1;33m**\u001b[0m\u001b[1;33m-\u001b[0m\u001b[1;36m11\u001b[0m\u001b[1;33m)\u001b[0m\u001b[1;33m,\u001b[0m \u001b[0mw\u001b[0m\u001b[1;33m=\u001b[0m\u001b[1;36m2.662\u001b[0m\u001b[1;33m*\u001b[0m\u001b[1;33m(\u001b[0m\u001b[1;36m10\u001b[0m\u001b[1;33m**\u001b[0m\u001b[1;33m-\u001b[0m\u001b[1;36m6\u001b[0m\u001b[1;33m)\u001b[0m\u001b[1;33m,\u001b[0m \u001b[0mm\u001b[0m\u001b[1;33m=\u001b[0m\u001b[1;36m7.348\u001b[0m\u001b[1;33m*\u001b[0m\u001b[1;33m(\u001b[0m\u001b[1;36m10\u001b[0m\u001b[1;33m**\u001b[0m\u001b[1;36m22\u001b[0m\u001b[1;33m)\u001b[0m\u001b[1;33m,\u001b[0m \u001b[0mM\u001b[0m\u001b[1;33m=\u001b[0m\u001b[1;36m5.975\u001b[0m\u001b[1;33m*\u001b[0m\u001b[1;33m(\u001b[0m\u001b[1;36m10\u001b[0m\u001b[1;33m**\u001b[0m\u001b[1;36m24\u001b[0m\u001b[1;33m)\u001b[0m\u001b[1;33m)\u001b[0m\u001b[1;33m->\u001b[0m\u001b[0mfloat\u001b[0m\u001b[1;33m:\u001b[0m\u001b[1;33m\u001b[0m\u001b[1;33m\u001b[0m\u001b[0m\n\u001b[1;32m---> 10\u001b[1;33m     \u001b[0mfp\u001b[0m \u001b[1;33m=\u001b[0m \u001b[1;33m(\u001b[0m\u001b[1;36m5\u001b[0m\u001b[1;33m*\u001b[0m\u001b[1;33m(\u001b[0m\u001b[0mr\u001b[0m\u001b[1;33m**\u001b[0m\u001b[1;36m4\u001b[0m\u001b[1;33m)\u001b[0m\u001b[1;33m)\u001b[0m\u001b[1;33m-\u001b[0m\u001b[1;33m(\u001b[0m\u001b[1;36m4\u001b[0m\u001b[1;33m*\u001b[0m\u001b[1;33m(\u001b[0m\u001b[1;36m2\u001b[0m\u001b[1;33m*\u001b[0m\u001b[0mR\u001b[0m\u001b[1;33m)\u001b[0m\u001b[1;33m*\u001b[0m\u001b[1;33m(\u001b[0m\u001b[0mr\u001b[0m\u001b[1;33m**\u001b[0m\u001b[1;36m3\u001b[0m\u001b[1;33m)\u001b[0m\u001b[1;33m)\u001b[0m\u001b[1;33m+\u001b[0m\u001b[1;33m(\u001b[0m\u001b[1;36m3\u001b[0m\u001b[1;33m*\u001b[0m\u001b[1;33m(\u001b[0m\u001b[0mR\u001b[0m\u001b[1;33m**\u001b[0m\u001b[1;36m2\u001b[0m\u001b[1;33m)\u001b[0m\u001b[1;33m*\u001b[0m\u001b[1;33m(\u001b[0m\u001b[0mr\u001b[0m\u001b[1;33m**\u001b[0m\u001b[1;36m2\u001b[0m\u001b[1;33m)\u001b[0m\u001b[1;33m)\u001b[0m\u001b[1;33m-\u001b[0m\u001b[1;33m(\u001b[0m\u001b[1;36m2\u001b[0m\u001b[1;33m*\u001b[0m\u001b[1;33m(\u001b[0m\u001b[1;33m(\u001b[0m\u001b[0mG\u001b[0m\u001b[1;33m/\u001b[0m\u001b[1;33m(\u001b[0m\u001b[0mw\u001b[0m\u001b[1;33m**\u001b[0m\u001b[1;36m2\u001b[0m\u001b[1;33m)\u001b[0m\u001b[1;33m)\u001b[0m\u001b[1;33m*\u001b[0m\u001b[1;33m(\u001b[0m\u001b[0mM\u001b[0m\u001b[1;33m-\u001b[0m\u001b[0mm\u001b[0m\u001b[1;33m)\u001b[0m\u001b[1;33m)\u001b[0m\u001b[1;33m*\u001b[0m\u001b[0mr\u001b[0m\u001b[1;33m)\u001b[0m\u001b[1;33m+\u001b[0m\u001b[1;33m(\u001b[0m\u001b[1;33m(\u001b[0m\u001b[0mG\u001b[0m\u001b[1;33m*\u001b[0m\u001b[0mM\u001b[0m\u001b[1;33m*\u001b[0m\u001b[1;33m(\u001b[0m\u001b[0mR\u001b[0m\u001b[1;33m**\u001b[0m\u001b[1;36m2\u001b[0m\u001b[1;33m)\u001b[0m\u001b[1;33m)\u001b[0m\u001b[1;33m/\u001b[0m\u001b[1;33m(\u001b[0m\u001b[0mw\u001b[0m\u001b[1;33m**\u001b[0m\u001b[1;36m2\u001b[0m\u001b[1;33m)\u001b[0m\u001b[1;33m)\u001b[0m\u001b[1;33m\u001b[0m\u001b[1;33m\u001b[0m\u001b[0m\n\u001b[0m\u001b[0;32m     11\u001b[0m     \u001b[1;32mreturn\u001b[0m \u001b[0mfp\u001b[0m\u001b[1;33m\u001b[0m\u001b[1;33m\u001b[0m\u001b[0m\n\u001b[0;32m     12\u001b[0m \u001b[1;33m\u001b[0m\u001b[0m\n",
            "\u001b[1;31mKeyboardInterrupt\u001b[0m: "
          ]
        }
      ],
      "source": [
        "import numpy as np\n",
        "\n",
        "#f(r)\n",
        "def f(r, R=3.884*(10**8), G=6.674*(10**-11), w=2.662*(10**-6), m=7.348*(10**22), M=5.975*(10**24))->float:\n",
        "    f = (r**5)-((R*2)*(r**4))+((R**2)*(r**3))-(((G/(w**2))*(M-m))*(r**2))+(((2*G*M*R)/(w**2))*(r))-((G*M*(R**2))/(w**2))\n",
        "    return f\n",
        "\n",
        "#f'(r)\n",
        "def fp(r, R=3.884*(10**8), G=6.674*(10**-11), w=2.662*(10**-6), m=7.348*(10**22), M=5.975*(10**24))->float:\n",
        "    fp = (5*(r**4))-(4*(2*R)*(r**3))+(3*(R**2)*(r**2))-(2*((G/(w**2))*(M-m))*r)+((G*M*(R**2))/(w**2))\n",
        "    return fp\n",
        "\n",
        "#Newton-Raphson\n",
        "def newton(x0=100000, error=10**(-4)):\n",
        "    r_distance = x0 - (f(x0) / fp(x0))\n",
        "    tmp = x0\n",
        "    while (np.abs(r_distance-tmp) > error):\n",
        "        tmp = r_distance\n",
        "        r_distance = r_distance - ((fp(r_distance) / fp(r_distance)))\n",
        "    return r_distance\n",
        "\n",
        "print(newton())"
      ]
    }
  ],
  "metadata": {
    "colab": {
      "name": "Taller2MC.ipynb",
      "provenance": []
    },
    "kernelspec": {
      "display_name": "Python 3",
      "name": "python3"
    },
    "language_info": {
      "codemirror_mode": {
        "name": "ipython",
        "version": 3
      },
      "file_extension": ".py",
      "mimetype": "text/x-python",
      "name": "python",
      "nbconvert_exporter": "python",
      "pygments_lexer": "ipython3",
      "version": "3.8.5"
    }
  },
  "nbformat": 4,
  "nbformat_minor": 0
}
