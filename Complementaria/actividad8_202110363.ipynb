{
 "cells": [
  {
   "cell_type": "code",
   "execution_count": 1,
   "metadata": {},
   "outputs": [],
   "source": [
    "#Librerías\n",
    "import pandas as pd\n",
    "import numpy as np\n",
    "import matplotlib.pyplot as plt\n",
    "from random import sample"
   ]
  },
  {
   "cell_type": "code",
   "execution_count": 2,
   "metadata": {},
   "outputs": [],
   "source": [
    "#Lectura de los archivos\n",
    "info=pd.read_csv(\"informacion.txt\",delimiter=\"\\t\")\n",
    "datos=pd.read_csv(\"trabajo.txt\",delimiter=\"\\t\")"
   ]
  },
  {
   "cell_type": "code",
   "execution_count": 3,
   "metadata": {},
   "outputs": [],
   "source": [
    "#1. Escoja una muestra aleatoria de n=50 datos.+5\n",
    "indices=sample(list(datos.index),50)"
   ]
  },
  {
   "cell_type": "code",
   "execution_count": 4,
   "metadata": {},
   "outputs": [],
   "source": [
    "#2. Realice una tabla de frecuencias sobre las variables.+20\n",
    "info=pd.read_csv(\"informacion.txt\",delimiter=\"\\t\")\n",
    "datos=pd.read_csv(\"trabajo.txt\",delimiter=\"\\t\")"
   ]
  },
  {
   "cell_type": "code",
   "execution_count": 5,
   "metadata": {},
   "outputs": [
    {
     "name": "stdout",
     "output_type": "stream",
     "text": [
      "27286.971487999996\n",
      "9737.401234\n"
     ]
    }
   ],
   "source": [
    "#3. Estime el salario promedio de las esposas y de los esposos.+5\n",
    "promedio_esposas = datos[\"salario_esposa\"][indices].mean()\n",
    "promedio_esposos = datos[\"salario_esposo\"][indices].mean()\n",
    "print(promedio_esposos)\n",
    "print(promedio_esposas)"
   ]
  },
  {
   "cell_type": "code",
   "execution_count": 6,
   "metadata": {},
   "outputs": [
    {
     "data": {
      "image/png": "[encoded data removed]",
      "text/plain": [
       "<Figure size 432x288 with 1 Axes>"
      ]
     },
     "metadata": {
      "needs_background": "light"
     },
     "output_type": "display_data"
    }
   ],
   "source": [
    "#4. Realice un histograma sobre las variables edad del esposo.+10\n",
    "plt.figure()\n",
    "plt.hist(datos[\"edad_esposo\"][indices])#,density=True)\n",
    "plt.show()"
   ]
  },
  {
   "cell_type": "code",
   "execution_count": 7,
   "metadata": {},
   "outputs": [
    {
     "data": {
      "text/plain": [
       "3.959797974644666"
      ]
     },
     "execution_count": 7,
     "metadata": {},
     "output_type": "execute_result"
    }
   ],
   "source": [
    "#5. Estime la probabilidad de que la edad promedio de la esposa participe en el mercado laboral.\n",
    "#Para esto encuentre el intervalo y la frecuencia correspondiente a la edad promedio.+5\n",
    "prob_participar = ((datos[\"edad_esposa\"][indices].max())-(datos[\"edad_esposa\"][indices].min()))/(np.sqrt(len(indices)))\n",
    "prob_participar"
   ]
  },
  {
   "cell_type": "code",
   "execution_count": 8,
   "metadata": {},
   "outputs": [
    {
     "data": {
      "text/plain": [
       "3.959797974644666"
      ]
     },
     "execution_count": 8,
     "metadata": {},
     "output_type": "execute_result"
    }
   ],
   "source": [
    "#6. Estime la probabilidad de que la edad promedio de la esposa no participe en el mercado laboral+5\n",
    "prob_no_participar = ((datos[\"edad_esposa\"][indices].max())-(datos[\"edad_esposa\"][indices].min()))/(np.sqrt(len(indices)))\n",
    "prob_no_participar"
   ]
  }
 ],
 "metadata": {
  "interpreter": {
   "hash": "1e6d61eb56a74e6c061dcfccd82b82ccaee33fd674c78dc7541ba3c98a69ee31"
  },
  "kernelspec": {
   "display_name": "Python 3.10.2 64-bit",
   "language": "python",
   "name": "python3"
  },
  "language_info": {
   "codemirror_mode": {
    "name": "ipython",
    "version": 3
   },
   "file_extension": ".py",
   "mimetype": "text/x-python",
   "name": "python",
   "nbconvert_exporter": "python",
   "pygments_lexer": "ipython3",
   "version": "3.8.5"
  },
  "orig_nbformat": 4
 },
 "nbformat": 4,
 "nbformat_minor": 2
}
