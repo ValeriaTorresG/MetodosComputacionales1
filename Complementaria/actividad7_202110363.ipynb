{
 "cells": [
  {
   "cell_type": "code",
   "execution_count": 31,
   "metadata": {},
   "outputs": [],
   "source": [
    "#Leer datos\n",
    "import pandas as pd\n",
    "\n",
    "inc = pd.read_csv('incident_angle_030347.txt', sep=\"\\t\", header=1)\n",
    "trans = pd.read_csv('refraction_trans_ang_030333.txt', sep=\"\\t\", header=1)"
   ]
  },
  {
   "cell_type": "code",
   "execution_count": 32,
   "metadata": {},
   "outputs": [
    {
     "data": {
      "text/html": [
       "<div>\n",
       "<style scoped>\n",
       "    .dataframe tbody tr th:only-of-type {\n",
       "        vertical-align: middle;\n",
       "    }\n",
       "\n",
       "    .dataframe tbody tr th {\n",
       "        vertical-align: top;\n",
       "    }\n",
       "\n",
       "    .dataframe thead th {\n",
       "        text-align: right;\n",
       "    }\n",
       "</style>\n",
       "<table border=\"1\" class=\"dataframe\">\n",
       "  <thead>\n",
       "    <tr style=\"text-align: right;\">\n",
       "      <th></th>\n",
       "      <th>t</th>\n",
       "      <th>θ</th>\n",
       "    </tr>\n",
       "  </thead>\n",
       "  <tbody>\n",
       "    <tr>\n",
       "      <th>0</th>\n",
       "      <td>0.000000</td>\n",
       "      <td>170.279427</td>\n",
       "    </tr>\n",
       "    <tr>\n",
       "      <th>1</th>\n",
       "      <td>0.100100</td>\n",
       "      <td>168.282275</td>\n",
       "    </tr>\n",
       "    <tr>\n",
       "      <th>2</th>\n",
       "      <td>0.200200</td>\n",
       "      <td>168.630136</td>\n",
       "    </tr>\n",
       "    <tr>\n",
       "      <th>3</th>\n",
       "      <td>0.300300</td>\n",
       "      <td>167.099544</td>\n",
       "    </tr>\n",
       "    <tr>\n",
       "      <th>4</th>\n",
       "      <td>0.400400</td>\n",
       "      <td>164.158466</td>\n",
       "    </tr>\n",
       "    <tr>\n",
       "      <th>...</th>\n",
       "      <td>...</td>\n",
       "      <td>...</td>\n",
       "    </tr>\n",
       "    <tr>\n",
       "      <th>167</th>\n",
       "      <td>16.717745</td>\n",
       "      <td>91.336843</td>\n",
       "    </tr>\n",
       "    <tr>\n",
       "      <th>168</th>\n",
       "      <td>16.817856</td>\n",
       "      <td>90.095768</td>\n",
       "    </tr>\n",
       "    <tr>\n",
       "      <th>169</th>\n",
       "      <td>16.917967</td>\n",
       "      <td>91.116299</td>\n",
       "    </tr>\n",
       "    <tr>\n",
       "      <th>170</th>\n",
       "      <td>17.018067</td>\n",
       "      <td>89.826581</td>\n",
       "    </tr>\n",
       "    <tr>\n",
       "      <th>171</th>\n",
       "      <td>17.118167</td>\n",
       "      <td>90.995053</td>\n",
       "    </tr>\n",
       "  </tbody>\n",
       "</table>\n",
       "<p>172 rows × 2 columns</p>\n",
       "</div>"
      ],
      "text/plain": [
       "             t           θ\n",
       "0     0.000000  170.279427\n",
       "1     0.100100  168.282275\n",
       "2     0.200200  168.630136\n",
       "3     0.300300  167.099544\n",
       "4     0.400400  164.158466\n",
       "..         ...         ...\n",
       "167  16.717745   91.336843\n",
       "168  16.817856   90.095768\n",
       "169  16.917967   91.116299\n",
       "170  17.018067   89.826581\n",
       "171  17.118167   90.995053\n",
       "\n",
       "[172 rows x 2 columns]"
      ]
     },
     "execution_count": 32,
     "metadata": {},
     "output_type": "execute_result"
    }
   ],
   "source": [
    "#Mostrar tabla Ángulos incidencia\n",
    "inc"
   ]
  },
  {
   "cell_type": "code",
   "execution_count": 33,
   "metadata": {},
   "outputs": [
    {
     "data": {
      "text/html": [
       "<div>\n",
       "<style scoped>\n",
       "    .dataframe tbody tr th:only-of-type {\n",
       "        vertical-align: middle;\n",
       "    }\n",
       "\n",
       "    .dataframe tbody tr th {\n",
       "        vertical-align: top;\n",
       "    }\n",
       "\n",
       "    .dataframe thead th {\n",
       "        text-align: right;\n",
       "    }\n",
       "</style>\n",
       "<table border=\"1\" class=\"dataframe\">\n",
       "  <thead>\n",
       "    <tr style=\"text-align: right;\">\n",
       "      <th></th>\n",
       "      <th>t</th>\n",
       "      <th>θ</th>\n",
       "    </tr>\n",
       "  </thead>\n",
       "  <tbody>\n",
       "    <tr>\n",
       "      <th>0</th>\n",
       "      <td>0.000000</td>\n",
       "      <td>0.000000</td>\n",
       "    </tr>\n",
       "    <tr>\n",
       "      <th>1</th>\n",
       "      <td>0.100100</td>\n",
       "      <td>0.000000</td>\n",
       "    </tr>\n",
       "    <tr>\n",
       "      <th>2</th>\n",
       "      <td>0.200200</td>\n",
       "      <td>0.000000</td>\n",
       "    </tr>\n",
       "    <tr>\n",
       "      <th>3</th>\n",
       "      <td>0.300300</td>\n",
       "      <td>0.000000</td>\n",
       "    </tr>\n",
       "    <tr>\n",
       "      <th>4</th>\n",
       "      <td>0.400400</td>\n",
       "      <td>0.000000</td>\n",
       "    </tr>\n",
       "    <tr>\n",
       "      <th>...</th>\n",
       "      <td>...</td>\n",
       "      <td>...</td>\n",
       "    </tr>\n",
       "    <tr>\n",
       "      <th>167</th>\n",
       "      <td>16.717745</td>\n",
       "      <td>-83.600862</td>\n",
       "    </tr>\n",
       "    <tr>\n",
       "      <th>168</th>\n",
       "      <td>16.817856</td>\n",
       "      <td>-84.216104</td>\n",
       "    </tr>\n",
       "    <tr>\n",
       "      <th>169</th>\n",
       "      <td>16.917967</td>\n",
       "      <td>-85.025635</td>\n",
       "    </tr>\n",
       "    <tr>\n",
       "      <th>170</th>\n",
       "      <td>17.018067</td>\n",
       "      <td>-85.847737</td>\n",
       "    </tr>\n",
       "    <tr>\n",
       "      <th>171</th>\n",
       "      <td>17.118167</td>\n",
       "      <td>-87.205575</td>\n",
       "    </tr>\n",
       "  </tbody>\n",
       "</table>\n",
       "<p>172 rows × 2 columns</p>\n",
       "</div>"
      ],
      "text/plain": [
       "             t          θ\n",
       "0     0.000000   0.000000\n",
       "1     0.100100   0.000000\n",
       "2     0.200200   0.000000\n",
       "3     0.300300   0.000000\n",
       "4     0.400400   0.000000\n",
       "..         ...        ...\n",
       "167  16.717745 -83.600862\n",
       "168  16.817856 -84.216104\n",
       "169  16.917967 -85.025635\n",
       "170  17.018067 -85.847737\n",
       "171  17.118167 -87.205575\n",
       "\n",
       "[172 rows x 2 columns]"
      ]
     },
     "execution_count": 33,
     "metadata": {},
     "output_type": "execute_result"
    }
   ],
   "source": [
    "#Mostrar tabla Ángulos transmisión\n",
    "trans"
   ]
  },
  {
   "cell_type": "code",
   "execution_count": 34,
   "metadata": {},
   "outputs": [
    {
     "data": {
      "image/png": "[encoded data removed]",
      "text/plain": [
       "<Figure size 432x288 with 1 Axes>"
      ]
     },
     "metadata": {
      "needs_background": "light"
     },
     "output_type": "display_data"
    }
   ],
   "source": [
    "import matplotlib.pyplot as plt\n",
    "\n",
    "#Gráficas\n",
    "plt.plot(inc['t'], inc['θ'], label=\"Ángulos de incidencia\")\n",
    "plt.plot(trans['t'], trans['θ'], label='Ángulos de transmisión')\n",
    "plt.xlabel('t (s)')\n",
    "plt.ylabel('θ (grados)')\n",
    "plt.title('Gráfica ángulos de incidencia y transmisión')\n",
    "plt.legend()\n",
    "plt.savefig(\"Grafica_angulos.png\")"
   ]
  },
  {
   "cell_type": "code",
   "execution_count": 35,
   "metadata": {},
   "outputs": [],
   "source": [
    "import numpy as np\n",
    "\n",
    "#Elección de ángulos\n",
    "ang_inc = (inc[\"θ\"][57:] - 90) * np.ones(len(inc[\"θ\"][57:]))\n",
    "ang_trans = trans[\"θ\"][57:] + 90"
   ]
  },
  {
   "cell_type": "code",
   "execution_count": 36,
   "metadata": {},
   "outputs": [
    {
     "data": {
      "text/plain": [
       "'El indice de refracción obtenido es n=1.3398'"
      ]
     },
     "execution_count": 36,
     "metadata": {},
     "output_type": "execute_result"
    },
    {
     "data": {
      "image/png": "[encoded data removed]",
      "text/plain": [
       "<Figure size 432x288 with 1 Axes>"
      ]
     },
     "metadata": {
      "needs_background": "light"
     },
     "output_type": "display_data"
    }
   ],
   "source": [
    "#Ajuste\n",
    "import actividad7_202110363 as formulas\n",
    "import numpy as np\n",
    "\n",
    "sin_x = np.sin((ang_inc * np.pi) / 180)\n",
    "sin_y = np.sin((ang_trans * np.pi) / 180)\n",
    "fit = formulas.ajuste(sin_x, sin_y)\n",
    "\n",
    "#Gráfica ajuste\n",
    "import matplotlib.pyplot as plt\n",
    "\n",
    "plt.scatter(sin_x, sin_y, label=\"Datos\")\n",
    "plt.plot(sin_x, formulas.valor_y(sin_x, sin_x, sin_y),label=fit)\n",
    "plt.legend(loc=\"upper left\")\n",
    "plt.title(\"Ajuste mínimos cuadrados\")\n",
    "plt.savefig(\"Ajuste.png\")\n",
    "\n",
    "#Conclusiones\n",
    "f\"El indice de refracción obtenido es n={round(formulas.pendiente(sin_x, sin_y),4)}\""
   ]
  },
  {
   "cell_type": "code",
   "execution_count": 51,
   "metadata": {},
   "outputs": [
    {
     "name": "stdout",
     "output_type": "stream",
     "text": [
      "[1. 1. 1. 1. 1. 1. 1. 1. 1. 1. 1. 1. 1. 1. 1. 1. 1. 1. 1. 1. 1. 1. 1. 1.\n",
      " 1. 1. 1. 1. 1. 1. 1. 1. 1. 1. 1. 1. 1. 1. 1. 1. 1. 1. 1. 1. 1. 1. 1. 1.\n",
      " 1. 1. 1. 1. 1. 1. 1. 1. 1. 1. 1. 1. 1. 1. 1. 1. 1. 1. 1. 1. 1. 1. 1. 1.\n",
      " 1. 1. 1. 1. 1. 1. 1. 1. 1. 1. 1. 1. 1. 1. 1. 1. 1. 1. 1. 1. 1. 1. 1. 1.\n",
      " 1. 1. 1. 1. 1. 1. 1. 1. 1. 1. 1. 1. 1. 1. 1. 1. 1. 1. 1.]\n"
     ]
    }
   ],
   "source": [
    "x = np.ones((len(sin_x)))\n",
    "np.append(x, sin_x.values, axis=0)\n",
    "print(x)\n",
    "def ajuste_matricial(x,y):\n",
    "    xt = np.transpose(x)\n",
    "    return np.transpose((xt @ x)) @ xt @ y\n"
   ]
  }
 ],
 "metadata": {
  "interpreter": {
   "hash": "05a239fae501569810477b2c845b9cc15574f73d9f0450ba0b5ec4701bee97fd"
  },
  "kernelspec": {
   "display_name": "Python 3.8.5 ('base')",
   "language": "python",
   "name": "python3"
  },
  "language_info": {
   "codemirror_mode": {
    "name": "ipython",
    "version": 3
   },
   "file_extension": ".py",
   "mimetype": "text/x-python",
   "name": "python",
   "nbconvert_exporter": "python",
   "pygments_lexer": "ipython3",
   "version": "3.8.5"
  },
  "orig_nbformat": 4
 },
 "nbformat": 4,
 "nbformat_minor": 2
}
